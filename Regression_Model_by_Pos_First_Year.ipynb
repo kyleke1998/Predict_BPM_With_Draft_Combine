{
 "cells": [
  {
   "cell_type": "code",
   "execution_count": 1,
   "metadata": {},
   "outputs": [],
   "source": [
    "import pandas as pd\n",
    "import numpy as np\n",
    "from numpy import mean\n",
    "from numpy import absolute\n",
    "from numpy import sqrt\n",
    "from sklearn.model_selection import train_test_split\n",
    "from sklearn.linear_model import LinearRegression\n",
    "from sklearn.metrics import mean_squared_error, mean_absolute_error\n",
    "from sklearn.linear_model import Ridge, Lasso, RidgeCV, LassoCV\n",
    "import pickle5 as pickle\n",
    "import matplotlib.pyplot as plt\n",
    "from matplotlib import rcParams\n",
    "from IPython.core.interactiveshell import InteractiveShell\n",
    "InteractiveShell.ast_node_interactivity = \"all\"\n",
    "from sklearn.model_selection import LeaveOneOut\n",
    "from sklearn.model_selection import cross_val_score"
   ]
  },
  {
   "cell_type": "code",
   "execution_count": 2,
   "metadata": {},
   "outputs": [],
   "source": [
    "import statsmodels.api as sm\n",
    "import statsmodels.formula.api as smf\n",
    "from statsmodels.nonparametric.smoothers_lowess import lowess\n",
    "import numpy as np\n",
    "import scipy.stats as stats"
   ]
  },
  {
   "cell_type": "code",
   "execution_count": 3,
   "metadata": {},
   "outputs": [],
   "source": [
    "four_years_df = pd.read_pickle(\"cleaned_df.pkl\")\n",
    "four_years_df = four_years_df[four_years_df['MP']>250]\n",
    "four_years_df = four_years_df.drop(['POS','Name','YEAR','Season','through_4_years','WITH SHOES','MP'],axis=1)\n",
    "four_years_df = pd.get_dummies(four_years_df)\n"
   ]
  },
  {
   "cell_type": "code",
   "execution_count": 17,
   "metadata": {},
   "outputs": [],
   "source": [
    "def resd_vs_fitted(preds,y_test):\n",
    "    residuals = y_test - preds\n",
    "    fitted = preds\n",
    "    smoothed = lowess(residuals,fitted)\n",
    "    top3 = abs(residuals).sort_values(ascending = False)[:3]\n",
    "\n",
    "    plt.rcParams.update({'font.size': 16})\n",
    "    plt.rcParams[\"figure.figsize\"] = (8,7)\n",
    "    fig, ax = plt.subplots()\n",
    "    ax.scatter(fitted, residuals, edgecolors = 'k', facecolors = 'none')\n",
    "    ax.plot(smoothed[:,0],smoothed[:,1],color = 'r')\n",
    "    ax.set_ylabel('Residuals')\n",
    "    ax.set_xlabel('Fitted Values')\n",
    "    ax.set_title('Residuals vs. Fitted')\n",
    "    ax.plot([min(fitted),max(fitted)],[0,0],color = 'k',linestyle = ':', alpha = .3)\n",
    "\n",
    "    for i in top3.index:\n",
    "        ax.annotate(i,xy=(fittfed[i],residuals[i]))\n",
    "\n",
    "    plt.show()"
   ]
  },
  {
   "cell_type": "code",
   "execution_count": 21,
   "metadata": {},
   "outputs": [],
   "source": [
    "def select_pos_target_perform_regression(pos,target,four_years_df):\n",
    "    four_years_df = four_years_df[four_years_df[pos]==1]\n",
    "    X_train, X_test, y_train, y_test = train_test_split(four_years_df.drop(['BPM','Avg_BPM'],axis=1), four_years_df[target], test_size = .3, random_state = 3)\n",
    "\n",
    "    assert X_test.shape[0] == y_test.shape[0], \"wrong shapes for test set\"\n",
    "    assert X_train.shape[0] == y_train.shape[0], \"wrong shapes for training set\"\n",
    "    \n",
    "    lassocv = LassoCV(alphas=None, n_alphas=200,cv=10, max_iter=100000, normalize=True, random_state=1)\n",
    "    lassocv.fit(X_train, y_train)\n",
    "    lasso_cvalpha = Lasso(alpha=lassocv.alpha_, normalize=True)\n",
    "    lasso_cvalpha.fit(X_train, y_train)\n",
    "    lasso_pred = lasso_cvalpha.predict(X_test)\n",
    "    \n",
    "    lasso_rmse = mean_squared_error(y_test,lasso_pred,squared=False)\n",
    "    lasso_mae = mean_absolute_error(y_test,lasso_pred)\n",
    "    \n",
    "    print('Best Lasso Model: Root Mean Square Error{} Mean absolute error {}'.format(lasso_rmse,lasso_mae),\"\\n\")\n",
    "        \n",
    "    X_train_sig_coef = X_train.loc[:,lasso_cvalpha.coef_!=0]\n",
    "    X_test_sig_coef = X_test.loc[:,lasso_cvalpha.coef_!=0]\n",
    "    mod=sm.OLS(y_train,X_train_sig_coef)\n",
    "    print(mod.fit().summary(),\"\\n\")\n",
    "    \n",
    "    cv = LeaveOneOut()\n",
    "    reg = LinearRegression()\n",
    "    rmse_cv = cross_val_score(reg, X_train_sig_coef, y_train, scoring='neg_mean_squared_error',\n",
    "                         cv=cv, n_jobs=-1)\n",
    "    rmse=sqrt(mean(absolute(rmse_cv)))\n",
    "    mae_cv = cross_val_score(reg, X_train_sig_coef, y_train, scoring='neg_mean_absolute_error',\n",
    "                         cv=cv, n_jobs=-1)\n",
    "    mae = mean(absolute(mae_cv))\n",
    "    reg = LinearRegression().fit(X_train_sig_coef,y_train)\n",
    "    preds=reg.predict(X_test_sig_coef)\n",
    "    \n",
    "    \n",
    "    print('Regression with Significant Digts:Root Mean Square Error{} Mean absolute error {}'.format(rmse,mae))\n",
    "    \n",
    "    if (rmse < lasso_rmse):\n",
    "        return preds,y_test\n",
    "    else:\n",
    "        return lasso_pred,y_test"
   ]
  },
  {
   "cell_type": "code",
   "execution_count": 22,
   "metadata": {},
   "outputs": [
    {
     "name": "stdout",
     "output_type": "stream",
     "text": [
      "Best Lasso Model: Root Mean Square Error2.027425722087988 Mean absolute error 1.665223293665279 \n",
      "\n",
      "                                 OLS Regression Results                                \n",
      "=======================================================================================\n",
      "Dep. Variable:                    BPM   R-squared (uncentered):                   0.332\n",
      "Model:                            OLS   Adj. R-squared (uncentered):              0.324\n",
      "Method:                 Least Squares   F-statistic:                              41.23\n",
      "Date:                Tue, 26 Oct 2021   Prob (F-statistic):                    7.98e-09\n",
      "Time:                        12:36:48   Log-Likelihood:                         -199.59\n",
      "No. Observations:                  84   AIC:                                      401.2\n",
      "Df Residuals:                      83   BIC:                                      403.6\n",
      "Df Model:                           1                                                  \n",
      "Covariance Type:            nonrobust                                                  \n",
      "==============================================================================\n",
      "                 coef    std err          t      P>|t|      [0.025      0.975]\n",
      "------------------------------------------------------------------------------\n",
      "HAND L        -0.3201      0.050     -6.421      0.000      -0.419      -0.221\n",
      "==============================================================================\n",
      "Omnibus:                        5.666   Durbin-Watson:                   1.618\n",
      "Prob(Omnibus):                  0.059   Jarque-Bera (JB):                7.760\n",
      "Skew:                           0.185   Prob(JB):                       0.0207\n",
      "Kurtosis:                       4.442   Cond. No.                         1.00\n",
      "==============================================================================\n",
      "\n",
      "Notes:\n",
      "[1] R² is computed without centering (uncentered) since the model does not contain a constant.\n",
      "[2] Standard Errors assume that the covariance matrix of the errors is correctly specified. \n",
      "\n",
      "Regression with Significant Digts:Root Mean Square Error2.191340993131539 Mean absolute error 1.683991933496711\n"
     ]
    }
   ],
   "source": [
    "#point guard model: first year BPM \n",
    "predicted_value, true_value = select_pos_target_perform_regression('Pos_PG','BPM',four_years_df)\n",
    "\n"
   ]
  },
  {
   "cell_type": "code",
   "execution_count": 23,
   "metadata": {},
   "outputs": [
    {
     "data": {
      "text/plain": [
       "<matplotlib.collections.PathCollection at 0x1cc7b07c148>"
      ]
     },
     "execution_count": 23,
     "metadata": {},
     "output_type": "execute_result"
    },
    {
     "data": {
      "text/plain": [
       "Text(0.5, 0, 'Predicted')"
      ]
     },
     "execution_count": 23,
     "metadata": {},
     "output_type": "execute_result"
    },
    {
     "data": {
      "text/plain": [
       "Text(0, 0.5, 'Actuals')"
      ]
     },
     "execution_count": 23,
     "metadata": {},
     "output_type": "execute_result"
    },
    {
     "data": {
      "text/plain": [
       "Text(0.5, 1.0, 'PG First year BPM Model')"
      ]
     },
     "execution_count": 23,
     "metadata": {},
     "output_type": "execute_result"
    },
    {
     "data": {
      "text/plain": [
       "(-2.7336762348080184, -1.926491600552917, -7.3051766004415, 1.305176600441501)"
      ]
     },
     "execution_count": 23,
     "metadata": {},
     "output_type": "execute_result"
    },
    {
     "data": {
      "image/png": "[encoded data removed]",
      "text/plain": [
       "<Figure size 432x288 with 1 Axes>"
      ]
     },
     "metadata": {
      "needs_background": "light"
     },
     "output_type": "display_data"
    }
   ],
   "source": [
    "#Graph of point guard: first year BPM model\n",
    "plt.scatter(predicted_value,true_value , c='crimson')\n",
    "\n",
    "plt.xlabel('Predicted', fontsize=15)\n",
    "plt.ylabel('Actuals', fontsize=15)\n",
    "plt.title('PG First year BPM Model')\n",
    "plt.axis('equal')\n",
    "plt.show()"
   ]
  },
  {
   "cell_type": "code",
   "execution_count": 27,
   "metadata": {},
   "outputs": [
    {
     "name": "stdout",
     "output_type": "stream",
     "text": [
      "Best Lasso Model: Root Mean Square Error2.4245538421420036 Mean absolute error 1.9884279266301734 \n",
      "\n",
      "                                 OLS Regression Results                                \n",
      "=======================================================================================\n",
      "Dep. Variable:                    BPM   R-squared (uncentered):                   0.410\n",
      "Model:                            OLS   Adj. R-squared (uncentered):              0.403\n",
      "Method:                 Least Squares   F-statistic:                              61.05\n",
      "Date:                Tue, 26 Oct 2021   Prob (F-statistic):                    1.11e-11\n",
      "Time:                        12:38:04   Log-Likelihood:                         -211.93\n",
      "No. Observations:                  89   AIC:                                      425.9\n",
      "Df Residuals:                      88   BIC:                                      428.3\n",
      "Df Model:                           1                                                  \n",
      "Covariance Type:            nonrobust                                                  \n",
      "==============================================================================\n",
      "                 coef    std err          t      P>|t|      [0.025      0.975]\n",
      "------------------------------------------------------------------------------\n",
      "HAND W        -0.3093      0.040     -7.813      0.000      -0.388      -0.231\n",
      "==============================================================================\n",
      "Omnibus:                        3.198   Durbin-Watson:                   1.658\n",
      "Prob(Omnibus):                  0.202   Jarque-Bera (JB):                1.921\n",
      "Skew:                           0.090   Prob(JB):                        0.383\n",
      "Kurtosis:                       2.303   Cond. No.                         1.00\n",
      "==============================================================================\n",
      "\n",
      "Notes:\n",
      "[1] R² is computed without centering (uncentered) since the model does not contain a constant.\n",
      "[2] Standard Errors assume that the covariance matrix of the errors is correctly specified. \n",
      "\n",
      "Regression with Significant Digts:Root Mean Square Error1.933279946001063 Mean absolute error 1.527925714105683\n"
     ]
    }
   ],
   "source": [
    "#Shooting guard first year BPM model\n",
    "predicted_value, true_value = select_pos_target_perform_regression('Pos_SG','BPM',four_years_df)\n",
    "\n"
   ]
  },
  {
   "cell_type": "code",
   "execution_count": 28,
   "metadata": {},
   "outputs": [
    {
     "data": {
      "text/plain": [
       "<matplotlib.collections.PathCollection at 0x1cc7c8b4cc8>"
      ]
     },
     "execution_count": 28,
     "metadata": {},
     "output_type": "execute_result"
    },
    {
     "data": {
      "text/plain": [
       "Text(0.5, 0, 'Predicted')"
      ]
     },
     "execution_count": 28,
     "metadata": {},
     "output_type": "execute_result"
    },
    {
     "data": {
      "text/plain": [
       "Text(0, 0.5, 'Actuals')"
      ]
     },
     "execution_count": 28,
     "metadata": {},
     "output_type": "execute_result"
    },
    {
     "data": {
      "text/plain": [
       "Text(0.5, 1.0, 'SG First Year BPM Model')"
      ]
     },
     "execution_count": 28,
     "metadata": {},
     "output_type": "execute_result"
    },
    {
     "data": {
      "text/plain": [
       "(-3.233783370479989,\n",
       " -2.3989982915537946,\n",
       " -9.370176600441503,\n",
       " 2.870176600441501)"
      ]
     },
     "execution_count": 28,
     "metadata": {},
     "output_type": "execute_result"
    },
    {
     "data": {
      "image/png": "[encoded data removed]",
      "text/plain": [
       "<Figure size 432x288 with 1 Axes>"
      ]
     },
     "metadata": {
      "needs_background": "light"
     },
     "output_type": "display_data"
    }
   ],
   "source": [
    "#Preds vs actual graphs\n",
    "plt.scatter(predicted_value,true_value , c='crimson')\n",
    "\n",
    "plt.xlabel('Predicted', fontsize=15)\n",
    "plt.ylabel('Actuals', fontsize=15)\n",
    "plt.title('SG First Year BPM Model')\n",
    "plt.axis('equal')\n",
    "plt.show()"
   ]
  },
  {
   "cell_type": "code",
   "execution_count": 29,
   "metadata": {},
   "outputs": [
    {
     "name": "stdout",
     "output_type": "stream",
     "text": [
      "Best Lasso Model: Root Mean Square Error2.4931096335820073 Mean absolute error 2.112470121624871 \n",
      "\n",
      "                                 OLS Regression Results                                \n",
      "=======================================================================================\n",
      "Dep. Variable:                    BPM   R-squared (uncentered):                   0.705\n",
      "Model:                            OLS   Adj. R-squared (uncentered):              0.651\n",
      "Method:                 Least Squares   F-statistic:                              13.03\n",
      "Date:                Tue, 26 Oct 2021   Prob (F-statistic):                    3.47e-12\n",
      "Time:                        12:38:26   Log-Likelihood:                         -134.70\n",
      "No. Observations:                  71   AIC:                                      291.4\n",
      "Df Residuals:                      60   BIC:                                      316.3\n",
      "Df Model:                          11                                                  \n",
      "Covariance Type:            nonrobust                                                  \n",
      "==============================================================================\n",
      "                 coef    std err          t      P>|t|      [0.025      0.975]\n",
      "------------------------------------------------------------------------------\n",
      "NO SHOES       0.1259      0.202      0.624      0.535      -0.278       0.530\n",
      "REACH         -0.0773      0.144     -0.536      0.594      -0.366       0.211\n",
      "WEIGHT        -0.0200      0.019     -1.037      0.304      -0.059       0.019\n",
      "WING DIFF      0.1850      0.134      1.376      0.174      -0.084       0.454\n",
      "SHUTTLE       -0.5899      0.183     -3.223      0.002      -0.956      -0.224\n",
      "3/4 SPRINT     0.9548      0.572      1.670      0.100      -0.189       2.098\n",
      "STD VERT      -0.0863      0.085     -1.018      0.313      -0.256       0.083\n",
      "BENCH         -0.1240      0.049     -2.537      0.014      -0.222      -0.026\n",
      "BODY FAT %     0.1229      0.081      1.521      0.133      -0.039       0.285\n",
      "HAND W         0.1437      0.079      1.809      0.075      -0.015       0.303\n",
      "after_2010    -2.3169      0.865     -2.678      0.010      -4.047      -0.586\n",
      "==============================================================================\n",
      "Omnibus:                        0.977   Durbin-Watson:                   2.181\n",
      "Prob(Omnibus):                  0.613   Jarque-Bera (JB):                0.553\n",
      "Skew:                          -0.202   Prob(JB):                        0.759\n",
      "Kurtosis:                       3.155   Cond. No.                     1.06e+03\n",
      "==============================================================================\n",
      "\n",
      "Notes:\n",
      "[1] R² is computed without centering (uncentered) since the model does not contain a constant.\n",
      "[2] Standard Errors assume that the covariance matrix of the errors is correctly specified.\n",
      "[3] The condition number is large, 1.06e+03. This might indicate that there are\n",
      "strong multicollinearity or other numerical problems. \n",
      "\n",
      "Regression with Significant Digts:Root Mean Square Error1.9078272419045517 Mean absolute error 1.510875057662648\n"
     ]
    }
   ],
   "source": [
    "#Small forward first year BPM model\n",
    "predicted_value, true_value = select_pos_target_perform_regression('Pos_SF','BPM',four_years_df)\n",
    "\n"
   ]
  },
  {
   "cell_type": "code",
   "execution_count": 30,
   "metadata": {},
   "outputs": [
    {
     "data": {
      "text/plain": [
       "<matplotlib.collections.PathCollection at 0x1cc7cd8df88>"
      ]
     },
     "execution_count": 30,
     "metadata": {},
     "output_type": "execute_result"
    },
    {
     "data": {
      "text/plain": [
       "Text(0.5, 0, 'Predicted')"
      ]
     },
     "execution_count": 30,
     "metadata": {},
     "output_type": "execute_result"
    },
    {
     "data": {
      "text/plain": [
       "Text(0, 0.5, 'Actuals')"
      ]
     },
     "execution_count": 30,
     "metadata": {},
     "output_type": "execute_result"
    },
    {
     "data": {
      "text/plain": [
       "Text(0.5, 1.0, 'SF First year BPM Model')"
      ]
     },
     "execution_count": 30,
     "metadata": {},
     "output_type": "execute_result"
    },
    {
     "data": {
      "text/plain": [
       "(-5.571103174851498, 0.27117664948216647, -6.5651766004415, 1.165176600441501)"
      ]
     },
     "execution_count": 30,
     "metadata": {},
     "output_type": "execute_result"
    },
    {
     "data": {
      "image/png": "[encoded data removed]",
      "text/plain": [
       "<Figure size 432x288 with 1 Axes>"
      ]
     },
     "metadata": {
      "needs_background": "light"
     },
     "output_type": "display_data"
    }
   ],
   "source": [
    "plt.scatter(predicted_value,true_value , c='crimson')\n",
    "\n",
    "plt.xlabel('Predicted', fontsize=15)\n",
    "plt.ylabel('Actuals', fontsize=15)\n",
    "plt.title('SF First year BPM Model')\n",
    "plt.axis('equal')\n",
    "plt.show()"
   ]
  },
  {
   "cell_type": "code",
   "execution_count": 31,
   "metadata": {},
   "outputs": [
    {
     "name": "stdout",
     "output_type": "stream",
     "text": [
      "Best Lasso Model: Root Mean Square Error2.503497245396558 Mean absolute error 1.9962737127371268 \n",
      "\n",
      "                                 OLS Regression Results                                \n",
      "=======================================================================================\n",
      "Dep. Variable:                    BPM   R-squared (uncentered):                   0.511\n",
      "Model:                            OLS   Adj. R-squared (uncentered):              0.505\n",
      "Method:                 Least Squares   F-statistic:                              84.80\n",
      "Date:                Tue, 26 Oct 2021   Prob (F-statistic):                    3.07e-14\n",
      "Time:                        12:39:01   Log-Likelihood:                         -187.68\n",
      "No. Observations:                  82   AIC:                                      377.4\n",
      "Df Residuals:                      81   BIC:                                      379.8\n",
      "Df Model:                           1                                                  \n",
      "Covariance Type:            nonrobust                                                  \n",
      "==============================================================================\n",
      "                 coef    std err          t      P>|t|      [0.025      0.975]\n",
      "------------------------------------------------------------------------------\n",
      "3/4 SPRINT    -0.7786      0.085     -9.209      0.000      -0.947      -0.610\n",
      "==============================================================================\n",
      "Omnibus:                       11.023   Durbin-Watson:                   2.145\n",
      "Prob(Omnibus):                  0.004   Jarque-Bera (JB):               16.084\n",
      "Skew:                          -0.547   Prob(JB):                     0.000322\n",
      "Kurtosis:                       4.873   Cond. No.                         1.00\n",
      "==============================================================================\n",
      "\n",
      "Notes:\n",
      "[1] R² is computed without centering (uncentered) since the model does not contain a constant.\n",
      "[2] Standard Errors assume that the covariance matrix of the errors is correctly specified. \n",
      "\n",
      "Regression with Significant Digts:Root Mean Square Error2.2814834186011987 Mean absolute error 1.6730050280704898\n"
     ]
    }
   ],
   "source": [
    "predicted_value, true_value = select_pos_target_perform_regression('Pos_PF','BPM',four_years_df)\n"
   ]
  },
  {
   "cell_type": "code",
   "execution_count": 32,
   "metadata": {},
   "outputs": [
    {
     "data": {
      "text/plain": [
       "<matplotlib.collections.PathCollection at 0x1cc7ca1b4c8>"
      ]
     },
     "execution_count": 32,
     "metadata": {},
     "output_type": "execute_result"
    },
    {
     "data": {
      "text/plain": [
       "Text(0.5, 0, 'Predicted')"
      ]
     },
     "execution_count": 32,
     "metadata": {},
     "output_type": "execute_result"
    },
    {
     "data": {
      "text/plain": [
       "Text(0, 0.5, 'Actuals')"
      ]
     },
     "execution_count": 32,
     "metadata": {},
     "output_type": "execute_result"
    },
    {
     "data": {
      "text/plain": [
       "Text(0.5, 1.0, 'PF First year BPM Model')"
      ]
     },
     "execution_count": 32,
     "metadata": {},
     "output_type": "execute_result"
    },
    {
     "data": {
      "text/plain": [
       "(-2.805536402504039,\n",
       " -1.9542384769645955,\n",
       " -9.391843267108172,\n",
       " 4.058509933774831)"
      ]
     },
     "execution_count": 32,
     "metadata": {},
     "output_type": "execute_result"
    },
    {
     "data": {
      "image/png": "[encoded data removed]",
      "text/plain": [
       "<Figure size 432x288 with 1 Axes>"
      ]
     },
     "metadata": {
      "needs_background": "light"
     },
     "output_type": "display_data"
    }
   ],
   "source": [
    "plt.scatter(predicted_value,true_value , c='crimson')\n",
    "\n",
    "plt.xlabel('Predicted', fontsize=15)\n",
    "plt.ylabel('Actuals', fontsize=15)\n",
    "plt.title('PF First year BPM Model')\n",
    "plt.axis('equal')\n",
    "plt.show()"
   ]
  },
  {
   "cell_type": "code",
   "execution_count": 33,
   "metadata": {},
   "outputs": [
    {
     "name": "stdout",
     "output_type": "stream",
     "text": [
      "Best Lasso Model: Root Mean Square Error1.6623607150274546 Mean absolute error 1.3964833759590796 \n",
      "\n",
      "                                 OLS Regression Results                                \n",
      "=======================================================================================\n",
      "Dep. Variable:                    BPM   R-squared (uncentered):                   0.537\n",
      "Model:                            OLS   Adj. R-squared (uncentered):              0.528\n",
      "Method:                 Least Squares   F-statistic:                              58.00\n",
      "Date:                Tue, 26 Oct 2021   Prob (F-statistic):                    6.56e-10\n",
      "Time:                        12:39:27   Log-Likelihood:                         -116.16\n",
      "No. Observations:                  51   AIC:                                      234.3\n",
      "Df Residuals:                      50   BIC:                                      236.2\n",
      "Df Model:                           1                                                  \n",
      "Covariance Type:            nonrobust                                                  \n",
      "==============================================================================\n",
      "                 coef    std err          t      P>|t|      [0.025      0.975]\n",
      "------------------------------------------------------------------------------\n",
      "REACH         -0.0235      0.003     -7.616      0.000      -0.030      -0.017\n",
      "==============================================================================\n",
      "Omnibus:                        3.200   Durbin-Watson:                   1.690\n",
      "Prob(Omnibus):                  0.202   Jarque-Bera (JB):                2.175\n",
      "Skew:                          -0.407   Prob(JB):                        0.337\n",
      "Kurtosis:                       3.600   Cond. No.                         1.00\n",
      "==============================================================================\n",
      "\n",
      "Notes:\n",
      "[1] R² is computed without centering (uncentered) since the model does not contain a constant.\n",
      "[2] Standard Errors assume that the covariance matrix of the errors is correctly specified. \n",
      "\n",
      "Regression with Significant Digts:Root Mean Square Error2.416065941506582 Mean absolute error 1.8602748132161289\n"
     ]
    }
   ],
   "source": [
    "predicted_value, true_value = select_pos_target_perform_regression('Pos_C','BPM',four_years_df)\n"
   ]
  },
  {
   "cell_type": "code",
   "execution_count": 34,
   "metadata": {},
   "outputs": [
    {
     "data": {
      "text/plain": [
       "<matplotlib.collections.PathCollection at 0x1cc7c614708>"
      ]
     },
     "execution_count": 34,
     "metadata": {},
     "output_type": "execute_result"
    },
    {
     "data": {
      "text/plain": [
       "Text(0.5, 0, 'Predicted')"
      ]
     },
     "execution_count": 34,
     "metadata": {},
     "output_type": "execute_result"
    },
    {
     "data": {
      "text/plain": [
       "Text(0, 0.5, 'Actuals')"
      ]
     },
     "execution_count": 34,
     "metadata": {},
     "output_type": "execute_result"
    },
    {
     "data": {
      "text/plain": [
       "Text(0.5, 1.0, 'C First year BPM Model')"
      ]
     },
     "execution_count": 34,
     "metadata": {},
     "output_type": "execute_result"
    },
    {
     "data": {
      "text/plain": [
       "(-2.656425258275353, -2.636711996626608, -6.050176600441501, 1.350176600441501)"
      ]
     },
     "execution_count": 34,
     "metadata": {},
     "output_type": "execute_result"
    },
    {
     "data": {
      "image/png": "[encoded data removed]",
      "text/plain": [
       "<Figure size 432x288 with 1 Axes>"
      ]
     },
     "metadata": {
      "needs_background": "light"
     },
     "output_type": "display_data"
    }
   ],
   "source": [
    "plt.scatter(predicted_value,true_value , c='crimson')\n",
    "\n",
    "plt.xlabel('Predicted', fontsize=15)\n",
    "plt.ylabel('Actuals', fontsize=15)\n",
    "plt.title('C First year BPM Model')\n",
    "plt.axis('equal')\n",
    "plt.show()"
   ]
  },
  {
   "cell_type": "code",
   "execution_count": null,
   "metadata": {},
   "outputs": [],
   "source": []
  }
 ],
 "metadata": {
  "kernelspec": {
   "display_name": "Python 3 (ipykernel)",
   "language": "python",
   "name": "python3"
  },
  "language_info": {
   "codemirror_mode": {
    "name": "ipython",
    "version": 3
   },
   "file_extension": ".py",
   "mimetype": "text/x-python",
   "name": "python",
   "nbconvert_exporter": "python",
   "pygments_lexer": "ipython3",
   "version": "3.7.11"
  }
 },
 "nbformat": 4,
 "nbformat_minor": 4
}
