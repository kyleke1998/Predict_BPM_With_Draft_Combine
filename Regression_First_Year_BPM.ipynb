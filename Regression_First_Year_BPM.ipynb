{
 "cells": [
  {
   "cell_type": "code",
   "execution_count": 2,
   "metadata": {},
   "outputs": [],
   "source": [
    "import pandas as pd\n",
    "import numpy as np\n",
    "from sklearn.model_selection import train_test_split\n",
    "from sklearn.linear_model import LinearRegression\n",
    "from sklearn.metrics import mean_squared_error, mean_absolute_error\n",
    "from sklearn.linear_model import Ridge, Lasso, RidgeCV, LassoCV"
   ]
  },
  {
   "cell_type": "code",
   "execution_count": 6,
   "metadata": {},
   "outputs": [],
   "source": [
    "import pickle5 as pickle\n",
    "four_years_df = pd.read_pickle(\"cleaned_df.pkl\")"
   ]
  },
  {
   "cell_type": "code",
   "execution_count": 4,
   "metadata": {},
   "outputs": [],
   "source": [
    "four_years_df = four_years_df[four_years_df['MP']>250]\n",
    "four_years_df = four_years_df.drop(['POS','Name','YEAR','Season','through_4_years','WITH SHOES','MP'],axis=1)"
   ]
  },
  {
   "cell_type": "code",
   "execution_count": 39,
   "metadata": {},
   "outputs": [],
   "source": [
    "X_train, X_test, Y_train, Y_test = train_test_split(four_years_df.drop(['BPM','Avg_BPM'],axis=1), four_years_df['BPM'], test_size = .3, random_state = 1)"
   ]
  },
  {
   "cell_type": "code",
   "execution_count": 6,
   "metadata": {},
   "outputs": [
    {
     "data": {
      "text/plain": [
       "(163,)"
      ]
     },
     "execution_count": 6,
     "metadata": {},
     "output_type": "execute_result"
    }
   ],
   "source": [
    "from IPython.core.interactiveshell import InteractiveShell\n",
    "InteractiveShell.ast_node_interactivity = \"all\"\n",
    "X_train.shape\n",
    "Y_train.shape\n",
    "X_test.shape\n",
    "Y_test.shape"
   ]
  },
  {
   "cell_type": "code",
   "execution_count": 7,
   "metadata": {},
   "outputs": [
    {
     "data": {
      "text/plain": [
       "LassoCV(cv=10, max_iter=100000, n_alphas=200, normalize=True, random_state=1)"
      ]
     },
     "execution_count": 7,
     "metadata": {},
     "output_type": "execute_result"
    }
   ],
   "source": [
    "lassocv = LassoCV(alphas=None, n_alphas=200,cv=10, max_iter=100000, normalize=True, random_state=1)\n",
    "lassocv.fit(X_train, Y_train)"
   ]
  },
  {
   "cell_type": "code",
   "execution_count": 8,
   "metadata": {},
   "outputs": [
    {
     "name": "stdout",
     "output_type": "stream",
     "text": [
      "0.005932436124993076\n"
     ]
    }
   ],
   "source": [
    "print(lassocv.alpha_)"
   ]
  },
  {
   "cell_type": "code",
   "execution_count": 9,
   "metadata": {},
   "outputs": [
    {
     "data": {
      "text/plain": [
       "Lasso(alpha=0.005932436124993076, normalize=True)"
      ]
     },
     "execution_count": 9,
     "metadata": {},
     "output_type": "execute_result"
    }
   ],
   "source": [
    "lasso_cvalpha = Lasso(alpha=lassocv.alpha_, normalize=True)\n",
    "lasso_cvalpha.fit(X_train, Y_train)"
   ]
  },
  {
   "cell_type": "code",
   "execution_count": 10,
   "metadata": {},
   "outputs": [],
   "source": [
    "lasso_pred = lasso_cvalpha.predict(X_test)"
   ]
  },
  {
   "cell_type": "code",
   "execution_count": 11,
   "metadata": {},
   "outputs": [
    {
     "data": {
      "text/plain": [
       "2.1315270900065775"
      ]
     },
     "execution_count": 11,
     "metadata": {},
     "output_type": "execute_result"
    },
    {
     "data": {
      "text/plain": [
       "1.6863038221081919"
      ]
     },
     "execution_count": 11,
     "metadata": {},
     "output_type": "execute_result"
    }
   ],
   "source": [
    "mean_squared_error(Y_test,lasso_pred,squared=False)\n",
    "mean_absolute_error(Y_test,lasso_pred)"
   ]
  },
  {
   "cell_type": "code",
   "execution_count": null,
   "metadata": {},
   "outputs": [],
   "source": [
    "print(pd.Series(lasso_cvalpha.coef_, index=X_train.columns))"
   ]
  },
  {
   "cell_type": "code",
   "execution_count": null,
   "metadata": {},
   "outputs": [],
   "source": [
    "Y_test.shape[0]"
   ]
  },
  {
   "cell_type": "code",
   "execution_count": 13,
   "metadata": {},
   "outputs": [
    {
     "data": {
      "text/html": [
       "<table class=\"simpletable\">\n",
       "<caption>OLS Regression Results</caption>\n",
       "<tr>\n",
       "  <th>Dep. Variable:</th>           <td>BPM</td>       <th>  R-squared (uncentered):</th>      <td>   0.331</td>\n",
       "</tr>\n",
       "<tr>\n",
       "  <th>Model:</th>                   <td>OLS</td>       <th>  Adj. R-squared (uncentered):</th> <td>   0.327</td>\n",
       "</tr>\n",
       "<tr>\n",
       "  <th>Method:</th>             <td>Least Squares</td>  <th>  F-statistic:       </th>          <td>   93.31</td>\n",
       "</tr>\n",
       "<tr>\n",
       "  <th>Date:</th>             <td>Wed, 27 Oct 2021</td> <th>  Prob (F-statistic):</th>          <td>1.16e-33</td>\n",
       "</tr>\n",
       "<tr>\n",
       "  <th>Time:</th>                 <td>11:14:51</td>     <th>  Log-Likelihood:    </th>          <td> -916.79</td>\n",
       "</tr>\n",
       "<tr>\n",
       "  <th>No. Observations:</th>      <td>   380</td>      <th>  AIC:               </th>          <td>   1838.</td>\n",
       "</tr>\n",
       "<tr>\n",
       "  <th>Df Residuals:</th>          <td>   378</td>      <th>  BIC:               </th>          <td>   1845.</td>\n",
       "</tr>\n",
       "<tr>\n",
       "  <th>Df Model:</th>              <td>     2</td>      <th>                     </th>              <td> </td>   \n",
       "</tr>\n",
       "<tr>\n",
       "  <th>Covariance Type:</th>      <td>nonrobust</td>    <th>                     </th>              <td> </td>   \n",
       "</tr>\n",
       "</table>\n",
       "<table class=\"simpletable\">\n",
       "<tr>\n",
       "     <td></td>        <th>coef</th>     <th>std err</th>      <th>t</th>      <th>P>|t|</th>  <th>[0.025</th>    <th>0.975]</th>  \n",
       "</tr>\n",
       "<tr>\n",
       "  <th>SHUTTLE</th> <td>    0.2590</td> <td>    0.085</td> <td>    3.053</td> <td> 0.002</td> <td>    0.092</td> <td>    0.426</td>\n",
       "</tr>\n",
       "<tr>\n",
       "  <th>HAND W</th>  <td>   -0.2924</td> <td>    0.022</td> <td>  -13.274</td> <td> 0.000</td> <td>   -0.336</td> <td>   -0.249</td>\n",
       "</tr>\n",
       "</table>\n",
       "<table class=\"simpletable\">\n",
       "<tr>\n",
       "  <th>Omnibus:</th>       <td> 3.806</td> <th>  Durbin-Watson:     </th> <td>   1.720</td>\n",
       "</tr>\n",
       "<tr>\n",
       "  <th>Prob(Omnibus):</th> <td> 0.149</td> <th>  Jarque-Bera (JB):  </th> <td>   4.500</td>\n",
       "</tr>\n",
       "<tr>\n",
       "  <th>Skew:</th>          <td> 0.053</td> <th>  Prob(JB):          </th> <td>   0.105</td>\n",
       "</tr>\n",
       "<tr>\n",
       "  <th>Kurtosis:</th>      <td> 3.522</td> <th>  Cond. No.          </th> <td>    4.37</td>\n",
       "</tr>\n",
       "</table><br/><br/>Notes:<br/>[1] R² is computed without centering (uncentered) since the model does not contain a constant.<br/>[2] Standard Errors assume that the covariance matrix of the errors is correctly specified."
      ],
      "text/plain": [
       "<class 'statsmodels.iolib.summary.Summary'>\n",
       "\"\"\"\n",
       "                                 OLS Regression Results                                \n",
       "=======================================================================================\n",
       "Dep. Variable:                    BPM   R-squared (uncentered):                   0.331\n",
       "Model:                            OLS   Adj. R-squared (uncentered):              0.327\n",
       "Method:                 Least Squares   F-statistic:                              93.31\n",
       "Date:                Wed, 27 Oct 2021   Prob (F-statistic):                    1.16e-33\n",
       "Time:                        11:14:51   Log-Likelihood:                         -916.79\n",
       "No. Observations:                 380   AIC:                                      1838.\n",
       "Df Residuals:                     378   BIC:                                      1845.\n",
       "Df Model:                           2                                                  \n",
       "Covariance Type:            nonrobust                                                  \n",
       "==============================================================================\n",
       "                 coef    std err          t      P>|t|      [0.025      0.975]\n",
       "------------------------------------------------------------------------------\n",
       "SHUTTLE        0.2590      0.085      3.053      0.002       0.092       0.426\n",
       "HAND W        -0.2924      0.022    -13.274      0.000      -0.336      -0.249\n",
       "==============================================================================\n",
       "Omnibus:                        3.806   Durbin-Watson:                   1.720\n",
       "Prob(Omnibus):                  0.149   Jarque-Bera (JB):                4.500\n",
       "Skew:                           0.053   Prob(JB):                        0.105\n",
       "Kurtosis:                       3.522   Cond. No.                         4.37\n",
       "==============================================================================\n",
       "\n",
       "Notes:\n",
       "[1] R² is computed without centering (uncentered) since the model does not contain a constant.\n",
       "[2] Standard Errors assume that the covariance matrix of the errors is correctly specified.\n",
       "\"\"\""
      ]
     },
     "execution_count": 13,
     "metadata": {},
     "output_type": "execute_result"
    }
   ],
   "source": [
    "X_train_two_var = X_train[['SHUTTLE','HAND W']]\n",
    "mod=sm.OLS(Y_train,X_train_two_var)\n",
    "mod.fit().summary()"
   ]
  },
  {
   "cell_type": "code",
   "execution_count": 14,
   "metadata": {},
   "outputs": [
    {
     "data": {
      "text/plain": [
       "2.1169868400826175"
      ]
     },
     "execution_count": 14,
     "metadata": {},
     "output_type": "execute_result"
    },
    {
     "data": {
      "text/plain": [
       "1.6800860567324598"
      ]
     },
     "execution_count": 14,
     "metadata": {},
     "output_type": "execute_result"
    }
   ],
   "source": [
    "X_test_two_var = X_test[['SHUTTLE','HAND W']].to_numpy()\n",
    "reg = LinearRegression().fit(X_train_two_var, Y_train)\n",
    "preds=reg.predict(X_test_two_var)\n",
    "mean_squared_error(Y_test,preds,squared=False)\n",
    "mean_absolute_error(Y_test,preds)"
   ]
  },
  {
   "cell_type": "code",
   "execution_count": 17,
   "metadata": {},
   "outputs": [
    {
     "data": {
      "text/plain": [
       "<matplotlib.collections.PathCollection at 0x1ff08f81388>"
      ]
     },
     "execution_count": 17,
     "metadata": {},
     "output_type": "execute_result"
    },
    {
     "data": {
      "text/plain": [
       "Text(0.5, 0, 'Predicted')"
      ]
     },
     "execution_count": 17,
     "metadata": {},
     "output_type": "execute_result"
    },
    {
     "data": {
      "text/plain": [
       "Text(0, 0.5, 'Actuals')"
      ]
     },
     "execution_count": 17,
     "metadata": {},
     "output_type": "execute_result"
    },
    {
     "data": {
      "text/plain": [
       "Text(0.5, 1.0, 'Preds vs Actuals')"
      ]
     },
     "execution_count": 17,
     "metadata": {},
     "output_type": "execute_result"
    },
    {
     "data": {
      "text/plain": [
       "(-3.0298422634881454,\n",
       " -2.2121287687801043,\n",
       " -8.7801766004415,\n",
       " 5.8801766004415015)"
      ]
     },
     "execution_count": 17,
     "metadata": {},
     "output_type": "execute_result"
    },
    {
     "data": {
      "image/png": "[encoded data removed]",
      "text/plain": [
       "<Figure size 432x288 with 1 Axes>"
      ]
     },
     "metadata": {
      "needs_background": "light"
     },
     "output_type": "display_data"
    }
   ],
   "source": [
    "import matplotlib.pyplot as plt\n",
    "plt.scatter(preds,Y_test , c='crimson')\n",
    "plt.xlabel('Predicted', fontsize=15)\n",
    "plt.ylabel('Actuals', fontsize=15)\n",
    "plt.title('Preds vs Actuals')\n",
    "plt.axis('equal')\n",
    "plt.show()"
   ]
  },
  {
   "cell_type": "code",
   "execution_count": 40,
   "metadata": {},
   "outputs": [
    {
     "data": {
      "text/html": [
       "<table class=\"simpletable\">\n",
       "<caption>OLS Regression Results</caption>\n",
       "<tr>\n",
       "  <th>Dep. Variable:</th>           <td>BPM</td>       <th>  R-squared:         </th> <td>   0.155</td>\n",
       "</tr>\n",
       "<tr>\n",
       "  <th>Model:</th>                   <td>OLS</td>       <th>  Adj. R-squared:    </th> <td>  -0.017</td>\n",
       "</tr>\n",
       "<tr>\n",
       "  <th>Method:</th>             <td>Least Squares</td>  <th>  F-statistic:       </th> <td>  0.9012</td>\n",
       "</tr>\n",
       "<tr>\n",
       "  <th>Date:</th>             <td>Wed, 27 Oct 2021</td> <th>  Prob (F-statistic):</th>  <td> 0.687</td> \n",
       "</tr>\n",
       "<tr>\n",
       "  <th>Time:</th>                 <td>11:35:07</td>     <th>  Log-Likelihood:    </th> <td> -799.86</td>\n",
       "</tr>\n",
       "<tr>\n",
       "  <th>No. Observations:</th>      <td>   380</td>      <th>  AIC:               </th> <td>   1730.</td>\n",
       "</tr>\n",
       "<tr>\n",
       "  <th>Df Residuals:</th>          <td>   315</td>      <th>  BIC:               </th> <td>   1986.</td>\n",
       "</tr>\n",
       "<tr>\n",
       "  <th>Df Model:</th>              <td>    64</td>      <th>                     </th>     <td> </td>   \n",
       "</tr>\n",
       "<tr>\n",
       "  <th>Covariance Type:</th>      <td>nonrobust</td>    <th>                     </th>     <td> </td>   \n",
       "</tr>\n",
       "</table>\n",
       "<table class=\"simpletable\">\n",
       "<tr>\n",
       "                <td></td>                  <th>coef</th>     <th>std err</th>      <th>t</th>      <th>P>|t|</th>  <th>[0.025</th>    <th>0.975]</th>  \n",
       "</tr>\n",
       "<tr>\n",
       "  <th>Intercept</th>                    <td>    3.0242</td> <td>   27.221</td> <td>    0.111</td> <td> 0.912</td> <td>  -50.533</td> <td>   56.581</td>\n",
       "</tr>\n",
       "<tr>\n",
       "  <th>C(Pos)[T.PF]</th>                 <td>  -22.6280</td> <td>   31.553</td> <td>   -0.717</td> <td> 0.474</td> <td>  -84.709</td> <td>   39.453</td>\n",
       "</tr>\n",
       "<tr>\n",
       "  <th>C(Pos)[T.PG]</th>                 <td>   -3.9515</td> <td>   29.040</td> <td>   -0.136</td> <td> 0.892</td> <td>  -61.089</td> <td>   53.186</td>\n",
       "</tr>\n",
       "<tr>\n",
       "  <th>C(Pos)[T.SF]</th>                 <td>   -4.0277</td> <td>   33.379</td> <td>   -0.121</td> <td> 0.904</td> <td>  -69.702</td> <td>   61.647</td>\n",
       "</tr>\n",
       "<tr>\n",
       "  <th>C(Pos)[T.SG]</th>                 <td>   -6.4572</td> <td>   27.306</td> <td>   -0.236</td> <td> 0.813</td> <td>  -60.181</td> <td>   47.267</td>\n",
       "</tr>\n",
       "<tr>\n",
       "  <th>Q(\"NO SHOES\")</th>                <td>    0.0088</td> <td>    0.224</td> <td>    0.039</td> <td> 0.969</td> <td>   -0.431</td> <td>    0.449</td>\n",
       "</tr>\n",
       "<tr>\n",
       "  <th>Q(\"NO SHOES\"):C(Pos)[T.PF]</th>   <td>    0.1669</td> <td>    0.254</td> <td>    0.658</td> <td> 0.511</td> <td>   -0.332</td> <td>    0.666</td>\n",
       "</tr>\n",
       "<tr>\n",
       "  <th>Q(\"NO SHOES\"):C(Pos)[T.PG]</th>   <td>    0.0238</td> <td>    0.293</td> <td>    0.081</td> <td> 0.935</td> <td>   -0.553</td> <td>    0.601</td>\n",
       "</tr>\n",
       "<tr>\n",
       "  <th>Q(\"NO SHOES\"):C(Pos)[T.SF]</th>   <td>   -0.0459</td> <td>    0.286</td> <td>   -0.161</td> <td> 0.873</td> <td>   -0.608</td> <td>    0.516</td>\n",
       "</tr>\n",
       "<tr>\n",
       "  <th>Q(\"NO SHOES\"):C(Pos)[T.SG]</th>   <td>   -0.1336</td> <td>    0.261</td> <td>   -0.512</td> <td> 0.609</td> <td>   -0.647</td> <td>    0.380</td>\n",
       "</tr>\n",
       "<tr>\n",
       "  <th>REACH</th>                        <td>   -0.0385</td> <td>    0.292</td> <td>   -0.132</td> <td> 0.895</td> <td>   -0.613</td> <td>    0.535</td>\n",
       "</tr>\n",
       "<tr>\n",
       "  <th>REACH:C(Pos)[T.PF]</th>           <td>    0.0235</td> <td>    0.293</td> <td>    0.080</td> <td> 0.936</td> <td>   -0.553</td> <td>    0.600</td>\n",
       "</tr>\n",
       "<tr>\n",
       "  <th>REACH:C(Pos)[T.PG]</th>           <td>   -0.0491</td> <td>    0.377</td> <td>   -0.130</td> <td> 0.897</td> <td>   -0.791</td> <td>    0.693</td>\n",
       "</tr>\n",
       "<tr>\n",
       "  <th>REACH:C(Pos)[T.SF]</th>           <td>    0.0437</td> <td>    0.355</td> <td>    0.123</td> <td> 0.902</td> <td>   -0.655</td> <td>    0.742</td>\n",
       "</tr>\n",
       "<tr>\n",
       "  <th>REACH:C(Pos)[T.SG]</th>           <td>    0.0670</td> <td>    0.337</td> <td>    0.199</td> <td> 0.843</td> <td>   -0.596</td> <td>    0.730</td>\n",
       "</tr>\n",
       "<tr>\n",
       "  <th>WEIGHT</th>                       <td>    0.0141</td> <td>    0.025</td> <td>    0.575</td> <td> 0.566</td> <td>   -0.034</td> <td>    0.062</td>\n",
       "</tr>\n",
       "<tr>\n",
       "  <th>WEIGHT:C(Pos)[T.PF]</th>          <td>   -0.0047</td> <td>    0.031</td> <td>   -0.155</td> <td> 0.877</td> <td>   -0.065</td> <td>    0.055</td>\n",
       "</tr>\n",
       "<tr>\n",
       "  <th>WEIGHT:C(Pos)[T.PG]</th>          <td>   -0.0299</td> <td>    0.033</td> <td>   -0.910</td> <td> 0.363</td> <td>   -0.094</td> <td>    0.035</td>\n",
       "</tr>\n",
       "<tr>\n",
       "  <th>WEIGHT:C(Pos)[T.SF]</th>          <td>   -0.0130</td> <td>    0.035</td> <td>   -0.375</td> <td> 0.708</td> <td>   -0.081</td> <td>    0.055</td>\n",
       "</tr>\n",
       "<tr>\n",
       "  <th>WEIGHT:C(Pos)[T.SG]</th>          <td>   -0.0098</td> <td>    0.027</td> <td>   -0.364</td> <td> 0.716</td> <td>   -0.063</td> <td>    0.043</td>\n",
       "</tr>\n",
       "<tr>\n",
       "  <th>WINGSPAN</th>                     <td>   -0.0501</td> <td>    0.207</td> <td>   -0.242</td> <td> 0.809</td> <td>   -0.458</td> <td>    0.358</td>\n",
       "</tr>\n",
       "<tr>\n",
       "  <th>WINGSPAN:C(Pos)[T.PF]</th>        <td>    0.0847</td> <td>    0.227</td> <td>    0.373</td> <td> 0.709</td> <td>   -0.362</td> <td>    0.531</td>\n",
       "</tr>\n",
       "<tr>\n",
       "  <th>WINGSPAN:C(Pos)[T.PG]</th>        <td>    0.1471</td> <td>    0.266</td> <td>    0.554</td> <td> 0.580</td> <td>   -0.375</td> <td>    0.670</td>\n",
       "</tr>\n",
       "<tr>\n",
       "  <th>WINGSPAN:C(Pos)[T.SF]</th>        <td>    0.0547</td> <td>    0.261</td> <td>    0.210</td> <td> 0.834</td> <td>   -0.458</td> <td>    0.567</td>\n",
       "</tr>\n",
       "<tr>\n",
       "  <th>WINGSPAN:C(Pos)[T.SG]</th>        <td>    0.1045</td> <td>    0.235</td> <td>    0.445</td> <td> 0.657</td> <td>   -0.358</td> <td>    0.567</td>\n",
       "</tr>\n",
       "<tr>\n",
       "  <th>Q(\"WING DIFF\")</th>               <td>   -0.0590</td> <td>    0.116</td> <td>   -0.509</td> <td> 0.611</td> <td>   -0.287</td> <td>    0.169</td>\n",
       "</tr>\n",
       "<tr>\n",
       "  <th>Q(\"WING DIFF\"):C(Pos)[T.PF]</th>  <td>   -0.0822</td> <td>    0.142</td> <td>   -0.577</td> <td> 0.564</td> <td>   -0.362</td> <td>    0.198</td>\n",
       "</tr>\n",
       "<tr>\n",
       "  <th>Q(\"WING DIFF\"):C(Pos)[T.PG]</th>  <td>    0.1233</td> <td>    0.159</td> <td>    0.774</td> <td> 0.439</td> <td>   -0.190</td> <td>    0.437</td>\n",
       "</tr>\n",
       "<tr>\n",
       "  <th>Q(\"WING DIFF\"):C(Pos)[T.SF]</th>  <td>    0.1005</td> <td>    0.154</td> <td>    0.652</td> <td> 0.515</td> <td>   -0.203</td> <td>    0.404</td>\n",
       "</tr>\n",
       "<tr>\n",
       "  <th>Q(\"WING DIFF\"):C(Pos)[T.SG]</th>  <td>    0.2382</td> <td>    0.150</td> <td>    1.589</td> <td> 0.113</td> <td>   -0.057</td> <td>    0.533</td>\n",
       "</tr>\n",
       "<tr>\n",
       "  <th>SHUTTLE</th>                      <td>    0.1520</td> <td>    0.269</td> <td>    0.566</td> <td> 0.572</td> <td>   -0.377</td> <td>    0.681</td>\n",
       "</tr>\n",
       "<tr>\n",
       "  <th>SHUTTLE:C(Pos)[T.PF]</th>         <td>   -0.3295</td> <td>    0.352</td> <td>   -0.935</td> <td> 0.350</td> <td>   -1.023</td> <td>    0.364</td>\n",
       "</tr>\n",
       "<tr>\n",
       "  <th>SHUTTLE:C(Pos)[T.PG]</th>         <td>   -0.2763</td> <td>    0.338</td> <td>   -0.816</td> <td> 0.415</td> <td>   -0.942</td> <td>    0.390</td>\n",
       "</tr>\n",
       "<tr>\n",
       "  <th>SHUTTLE:C(Pos)[T.SF]</th>         <td>   -0.5613</td> <td>    0.366</td> <td>   -1.532</td> <td> 0.127</td> <td>   -1.282</td> <td>    0.160</td>\n",
       "</tr>\n",
       "<tr>\n",
       "  <th>SHUTTLE:C(Pos)[T.SG]</th>         <td>   -0.1478</td> <td>    0.316</td> <td>   -0.468</td> <td> 0.640</td> <td>   -0.769</td> <td>    0.473</td>\n",
       "</tr>\n",
       "<tr>\n",
       "  <th>Q(\"3/4 SPRINT\")</th>              <td>    0.1161</td> <td>    1.001</td> <td>    0.116</td> <td> 0.908</td> <td>   -1.853</td> <td>    2.085</td>\n",
       "</tr>\n",
       "<tr>\n",
       "  <th>Q(\"3/4 SPRINT\"):C(Pos)[T.PF]</th> <td>   -0.5497</td> <td>    1.217</td> <td>   -0.452</td> <td> 0.652</td> <td>   -2.944</td> <td>    1.845</td>\n",
       "</tr>\n",
       "<tr>\n",
       "  <th>Q(\"3/4 SPRINT\"):C(Pos)[T.PG]</th> <td>   -0.5961</td> <td>    1.263</td> <td>   -0.472</td> <td> 0.637</td> <td>   -3.081</td> <td>    1.889</td>\n",
       "</tr>\n",
       "<tr>\n",
       "  <th>Q(\"3/4 SPRINT\"):C(Pos)[T.SF]</th> <td>   -0.0742</td> <td>    1.329</td> <td>   -0.056</td> <td> 0.955</td> <td>   -2.688</td> <td>    2.540</td>\n",
       "</tr>\n",
       "<tr>\n",
       "  <th>Q(\"3/4 SPRINT\"):C(Pos)[T.SG]</th> <td>   -0.6545</td> <td>    1.092</td> <td>   -0.599</td> <td> 0.549</td> <td>   -2.804</td> <td>    1.495</td>\n",
       "</tr>\n",
       "<tr>\n",
       "  <th>Q(\"STD VERT\")</th>                <td>    0.1832</td> <td>    0.259</td> <td>    0.706</td> <td> 0.481</td> <td>   -0.327</td> <td>    0.694</td>\n",
       "</tr>\n",
       "<tr>\n",
       "  <th>Q(\"STD VERT\"):C(Pos)[T.PF]</th>   <td>   -0.0928</td> <td>    0.272</td> <td>   -0.341</td> <td> 0.733</td> <td>   -0.628</td> <td>    0.442</td>\n",
       "</tr>\n",
       "<tr>\n",
       "  <th>Q(\"STD VERT\"):C(Pos)[T.PG]</th>   <td>   -0.1084</td> <td>    0.370</td> <td>   -0.293</td> <td> 0.770</td> <td>   -0.836</td> <td>    0.619</td>\n",
       "</tr>\n",
       "<tr>\n",
       "  <th>Q(\"STD VERT\"):C(Pos)[T.SF]</th>   <td>   -0.0151</td> <td>    0.328</td> <td>   -0.046</td> <td> 0.963</td> <td>   -0.661</td> <td>    0.630</td>\n",
       "</tr>\n",
       "<tr>\n",
       "  <th>Q(\"STD VERT\"):C(Pos)[T.SG]</th>   <td>   -0.2778</td> <td>    0.313</td> <td>   -0.887</td> <td> 0.376</td> <td>   -0.894</td> <td>    0.339</td>\n",
       "</tr>\n",
       "<tr>\n",
       "  <th>Q(\"MAX VERT\")</th>                <td>   -0.1441</td> <td>    0.257</td> <td>   -0.561</td> <td> 0.575</td> <td>   -0.650</td> <td>    0.362</td>\n",
       "</tr>\n",
       "<tr>\n",
       "  <th>Q(\"MAX VERT\"):C(Pos)[T.PF]</th>   <td>    0.1189</td> <td>    0.279</td> <td>    0.427</td> <td> 0.670</td> <td>   -0.429</td> <td>    0.667</td>\n",
       "</tr>\n",
       "<tr>\n",
       "  <th>Q(\"MAX VERT\"):C(Pos)[T.PG]</th>   <td>    0.1035</td> <td>    0.326</td> <td>    0.318</td> <td> 0.751</td> <td>   -0.538</td> <td>    0.745</td>\n",
       "</tr>\n",
       "<tr>\n",
       "  <th>Q(\"MAX VERT\"):C(Pos)[T.SF]</th>   <td>    0.0119</td> <td>    0.320</td> <td>    0.037</td> <td> 0.970</td> <td>   -0.618</td> <td>    0.642</td>\n",
       "</tr>\n",
       "<tr>\n",
       "  <th>Q(\"MAX VERT\"):C(Pos)[T.SG]</th>   <td>    0.3045</td> <td>    0.291</td> <td>    1.047</td> <td> 0.296</td> <td>   -0.268</td> <td>    0.877</td>\n",
       "</tr>\n",
       "<tr>\n",
       "  <th>BENCH</th>                        <td>   -0.1024</td> <td>    0.081</td> <td>   -1.264</td> <td> 0.207</td> <td>   -0.262</td> <td>    0.057</td>\n",
       "</tr>\n",
       "<tr>\n",
       "  <th>BENCH:C(Pos)[T.PF]</th>           <td>    0.0971</td> <td>    0.092</td> <td>    1.055</td> <td> 0.292</td> <td>   -0.084</td> <td>    0.278</td>\n",
       "</tr>\n",
       "<tr>\n",
       "  <th>BENCH:C(Pos)[T.PG]</th>           <td>    0.1290</td> <td>    0.098</td> <td>    1.310</td> <td> 0.191</td> <td>   -0.065</td> <td>    0.323</td>\n",
       "</tr>\n",
       "<tr>\n",
       "  <th>BENCH:C(Pos)[T.SF]</th>           <td>    0.0662</td> <td>    0.100</td> <td>    0.663</td> <td> 0.508</td> <td>   -0.130</td> <td>    0.263</td>\n",
       "</tr>\n",
       "<tr>\n",
       "  <th>BENCH:C(Pos)[T.SG]</th>           <td>    0.1247</td> <td>    0.093</td> <td>    1.338</td> <td> 0.182</td> <td>   -0.059</td> <td>    0.308</td>\n",
       "</tr>\n",
       "<tr>\n",
       "  <th>Q(\"BODY FAT %\")</th>              <td>   -0.0781</td> <td>    0.101</td> <td>   -0.772</td> <td> 0.441</td> <td>   -0.277</td> <td>    0.121</td>\n",
       "</tr>\n",
       "<tr>\n",
       "  <th>Q(\"BODY FAT %\"):C(Pos)[T.PF]</th> <td>    0.0279</td> <td>    0.121</td> <td>    0.231</td> <td> 0.817</td> <td>   -0.210</td> <td>    0.265</td>\n",
       "</tr>\n",
       "<tr>\n",
       "  <th>Q(\"BODY FAT %\"):C(Pos)[T.PG]</th> <td>    0.1862</td> <td>    0.142</td> <td>    1.312</td> <td> 0.191</td> <td>   -0.093</td> <td>    0.466</td>\n",
       "</tr>\n",
       "<tr>\n",
       "  <th>Q(\"BODY FAT %\"):C(Pos)[T.SF]</th> <td>    0.1398</td> <td>    0.134</td> <td>    1.042</td> <td> 0.298</td> <td>   -0.124</td> <td>    0.404</td>\n",
       "</tr>\n",
       "<tr>\n",
       "  <th>Q(\"BODY FAT %\"):C(Pos)[T.SG]</th> <td>    0.1487</td> <td>    0.138</td> <td>    1.075</td> <td> 0.283</td> <td>   -0.124</td> <td>    0.421</td>\n",
       "</tr>\n",
       "<tr>\n",
       "  <th>Q(\"HAND L\")</th>                  <td>    0.8295</td> <td>    0.665</td> <td>    1.247</td> <td> 0.213</td> <td>   -0.479</td> <td>    2.138</td>\n",
       "</tr>\n",
       "<tr>\n",
       "  <th>Q(\"HAND L\"):C(Pos)[T.PF]</th>     <td>   -1.0683</td> <td>    0.914</td> <td>   -1.169</td> <td> 0.243</td> <td>   -2.866</td> <td>    0.729</td>\n",
       "</tr>\n",
       "<tr>\n",
       "  <th>Q(\"HAND L\"):C(Pos)[T.PG]</th>     <td>   -1.2196</td> <td>    0.982</td> <td>   -1.242</td> <td> 0.215</td> <td>   -3.152</td> <td>    0.713</td>\n",
       "</tr>\n",
       "<tr>\n",
       "  <th>Q(\"HAND L\"):C(Pos)[T.SF]</th>     <td>   -1.7094</td> <td>    0.989</td> <td>   -1.728</td> <td> 0.085</td> <td>   -3.656</td> <td>    0.237</td>\n",
       "</tr>\n",
       "<tr>\n",
       "  <th>Q(\"HAND L\"):C(Pos)[T.SG]</th>     <td>   -0.2823</td> <td>    0.904</td> <td>   -0.312</td> <td> 0.755</td> <td>   -2.061</td> <td>    1.497</td>\n",
       "</tr>\n",
       "<tr>\n",
       "  <th>Q(\"HAND W\")</th>                  <td>   -0.7591</td> <td>    0.622</td> <td>   -1.221</td> <td> 0.223</td> <td>   -1.982</td> <td>    0.464</td>\n",
       "</tr>\n",
       "<tr>\n",
       "  <th>Q(\"HAND W\"):C(Pos)[T.PF]</th>     <td>    1.0382</td> <td>    0.860</td> <td>    1.208</td> <td> 0.228</td> <td>   -0.653</td> <td>    2.729</td>\n",
       "</tr>\n",
       "<tr>\n",
       "  <th>Q(\"HAND W\"):C(Pos)[T.PG]</th>     <td>    1.0051</td> <td>    0.904</td> <td>    1.112</td> <td> 0.267</td> <td>   -0.773</td> <td>    2.783</td>\n",
       "</tr>\n",
       "<tr>\n",
       "  <th>Q(\"HAND W\"):C(Pos)[T.SF]</th>     <td>    1.5777</td> <td>    0.925</td> <td>    1.705</td> <td> 0.089</td> <td>   -0.243</td> <td>    3.398</td>\n",
       "</tr>\n",
       "<tr>\n",
       "  <th>Q(\"HAND W\"):C(Pos)[T.SG]</th>     <td>    0.1468</td> <td>    0.847</td> <td>    0.173</td> <td> 0.863</td> <td>   -1.520</td> <td>    1.813</td>\n",
       "</tr>\n",
       "</table>\n",
       "<table class=\"simpletable\">\n",
       "<tr>\n",
       "  <th>Omnibus:</th>       <td> 1.982</td> <th>  Durbin-Watson:     </th> <td>   2.001</td>\n",
       "</tr>\n",
       "<tr>\n",
       "  <th>Prob(Omnibus):</th> <td> 0.371</td> <th>  Jarque-Bera (JB):  </th> <td>   1.906</td>\n",
       "</tr>\n",
       "<tr>\n",
       "  <th>Skew:</th>          <td>-0.034</td> <th>  Prob(JB):          </th> <td>   0.386</td>\n",
       "</tr>\n",
       "<tr>\n",
       "  <th>Kurtosis:</th>      <td> 3.340</td> <th>  Cond. No.          </th> <td>1.01e+16</td>\n",
       "</tr>\n",
       "</table><br/><br/>Notes:<br/>[1] Standard Errors assume that the covariance matrix of the errors is correctly specified.<br/>[2] The smallest eigenvalue is 3.19e-25. This might indicate that there are<br/>strong multicollinearity problems or that the design matrix is singular."
      ],
      "text/plain": [
       "<class 'statsmodels.iolib.summary.Summary'>\n",
       "\"\"\"\n",
       "                            OLS Regression Results                            \n",
       "==============================================================================\n",
       "Dep. Variable:                    BPM   R-squared:                       0.155\n",
       "Model:                            OLS   Adj. R-squared:                 -0.017\n",
       "Method:                 Least Squares   F-statistic:                    0.9012\n",
       "Date:                Wed, 27 Oct 2021   Prob (F-statistic):              0.687\n",
       "Time:                        11:35:07   Log-Likelihood:                -799.86\n",
       "No. Observations:                 380   AIC:                             1730.\n",
       "Df Residuals:                     315   BIC:                             1986.\n",
       "Df Model:                          64                                         \n",
       "Covariance Type:            nonrobust                                         \n",
       "================================================================================================\n",
       "                                   coef    std err          t      P>|t|      [0.025      0.975]\n",
       "------------------------------------------------------------------------------------------------\n",
       "Intercept                        3.0242     27.221      0.111      0.912     -50.533      56.581\n",
       "C(Pos)[T.PF]                   -22.6280     31.553     -0.717      0.474     -84.709      39.453\n",
       "C(Pos)[T.PG]                    -3.9515     29.040     -0.136      0.892     -61.089      53.186\n",
       "C(Pos)[T.SF]                    -4.0277     33.379     -0.121      0.904     -69.702      61.647\n",
       "C(Pos)[T.SG]                    -6.4572     27.306     -0.236      0.813     -60.181      47.267\n",
       "Q(\"NO SHOES\")                    0.0088      0.224      0.039      0.969      -0.431       0.449\n",
       "Q(\"NO SHOES\"):C(Pos)[T.PF]       0.1669      0.254      0.658      0.511      -0.332       0.666\n",
       "Q(\"NO SHOES\"):C(Pos)[T.PG]       0.0238      0.293      0.081      0.935      -0.553       0.601\n",
       "Q(\"NO SHOES\"):C(Pos)[T.SF]      -0.0459      0.286     -0.161      0.873      -0.608       0.516\n",
       "Q(\"NO SHOES\"):C(Pos)[T.SG]      -0.1336      0.261     -0.512      0.609      -0.647       0.380\n",
       "REACH                           -0.0385      0.292     -0.132      0.895      -0.613       0.535\n",
       "REACH:C(Pos)[T.PF]               0.0235      0.293      0.080      0.936      -0.553       0.600\n",
       "REACH:C(Pos)[T.PG]              -0.0491      0.377     -0.130      0.897      -0.791       0.693\n",
       "REACH:C(Pos)[T.SF]               0.0437      0.355      0.123      0.902      -0.655       0.742\n",
       "REACH:C(Pos)[T.SG]               0.0670      0.337      0.199      0.843      -0.596       0.730\n",
       "WEIGHT                           0.0141      0.025      0.575      0.566      -0.034       0.062\n",
       "WEIGHT:C(Pos)[T.PF]             -0.0047      0.031     -0.155      0.877      -0.065       0.055\n",
       "WEIGHT:C(Pos)[T.PG]             -0.0299      0.033     -0.910      0.363      -0.094       0.035\n",
       "WEIGHT:C(Pos)[T.SF]             -0.0130      0.035     -0.375      0.708      -0.081       0.055\n",
       "WEIGHT:C(Pos)[T.SG]             -0.0098      0.027     -0.364      0.716      -0.063       0.043\n",
       "WINGSPAN                        -0.0501      0.207     -0.242      0.809      -0.458       0.358\n",
       "WINGSPAN:C(Pos)[T.PF]            0.0847      0.227      0.373      0.709      -0.362       0.531\n",
       "WINGSPAN:C(Pos)[T.PG]            0.1471      0.266      0.554      0.580      -0.375       0.670\n",
       "WINGSPAN:C(Pos)[T.SF]            0.0547      0.261      0.210      0.834      -0.458       0.567\n",
       "WINGSPAN:C(Pos)[T.SG]            0.1045      0.235      0.445      0.657      -0.358       0.567\n",
       "Q(\"WING DIFF\")                  -0.0590      0.116     -0.509      0.611      -0.287       0.169\n",
       "Q(\"WING DIFF\"):C(Pos)[T.PF]     -0.0822      0.142     -0.577      0.564      -0.362       0.198\n",
       "Q(\"WING DIFF\"):C(Pos)[T.PG]      0.1233      0.159      0.774      0.439      -0.190       0.437\n",
       "Q(\"WING DIFF\"):C(Pos)[T.SF]      0.1005      0.154      0.652      0.515      -0.203       0.404\n",
       "Q(\"WING DIFF\"):C(Pos)[T.SG]      0.2382      0.150      1.589      0.113      -0.057       0.533\n",
       "SHUTTLE                          0.1520      0.269      0.566      0.572      -0.377       0.681\n",
       "SHUTTLE:C(Pos)[T.PF]            -0.3295      0.352     -0.935      0.350      -1.023       0.364\n",
       "SHUTTLE:C(Pos)[T.PG]            -0.2763      0.338     -0.816      0.415      -0.942       0.390\n",
       "SHUTTLE:C(Pos)[T.SF]            -0.5613      0.366     -1.532      0.127      -1.282       0.160\n",
       "SHUTTLE:C(Pos)[T.SG]            -0.1478      0.316     -0.468      0.640      -0.769       0.473\n",
       "Q(\"3/4 SPRINT\")                  0.1161      1.001      0.116      0.908      -1.853       2.085\n",
       "Q(\"3/4 SPRINT\"):C(Pos)[T.PF]    -0.5497      1.217     -0.452      0.652      -2.944       1.845\n",
       "Q(\"3/4 SPRINT\"):C(Pos)[T.PG]    -0.5961      1.263     -0.472      0.637      -3.081       1.889\n",
       "Q(\"3/4 SPRINT\"):C(Pos)[T.SF]    -0.0742      1.329     -0.056      0.955      -2.688       2.540\n",
       "Q(\"3/4 SPRINT\"):C(Pos)[T.SG]    -0.6545      1.092     -0.599      0.549      -2.804       1.495\n",
       "Q(\"STD VERT\")                    0.1832      0.259      0.706      0.481      -0.327       0.694\n",
       "Q(\"STD VERT\"):C(Pos)[T.PF]      -0.0928      0.272     -0.341      0.733      -0.628       0.442\n",
       "Q(\"STD VERT\"):C(Pos)[T.PG]      -0.1084      0.370     -0.293      0.770      -0.836       0.619\n",
       "Q(\"STD VERT\"):C(Pos)[T.SF]      -0.0151      0.328     -0.046      0.963      -0.661       0.630\n",
       "Q(\"STD VERT\"):C(Pos)[T.SG]      -0.2778      0.313     -0.887      0.376      -0.894       0.339\n",
       "Q(\"MAX VERT\")                   -0.1441      0.257     -0.561      0.575      -0.650       0.362\n",
       "Q(\"MAX VERT\"):C(Pos)[T.PF]       0.1189      0.279      0.427      0.670      -0.429       0.667\n",
       "Q(\"MAX VERT\"):C(Pos)[T.PG]       0.1035      0.326      0.318      0.751      -0.538       0.745\n",
       "Q(\"MAX VERT\"):C(Pos)[T.SF]       0.0119      0.320      0.037      0.970      -0.618       0.642\n",
       "Q(\"MAX VERT\"):C(Pos)[T.SG]       0.3045      0.291      1.047      0.296      -0.268       0.877\n",
       "BENCH                           -0.1024      0.081     -1.264      0.207      -0.262       0.057\n",
       "BENCH:C(Pos)[T.PF]               0.0971      0.092      1.055      0.292      -0.084       0.278\n",
       "BENCH:C(Pos)[T.PG]               0.1290      0.098      1.310      0.191      -0.065       0.323\n",
       "BENCH:C(Pos)[T.SF]               0.0662      0.100      0.663      0.508      -0.130       0.263\n",
       "BENCH:C(Pos)[T.SG]               0.1247      0.093      1.338      0.182      -0.059       0.308\n",
       "Q(\"BODY FAT %\")                 -0.0781      0.101     -0.772      0.441      -0.277       0.121\n",
       "Q(\"BODY FAT %\"):C(Pos)[T.PF]     0.0279      0.121      0.231      0.817      -0.210       0.265\n",
       "Q(\"BODY FAT %\"):C(Pos)[T.PG]     0.1862      0.142      1.312      0.191      -0.093       0.466\n",
       "Q(\"BODY FAT %\"):C(Pos)[T.SF]     0.1398      0.134      1.042      0.298      -0.124       0.404\n",
       "Q(\"BODY FAT %\"):C(Pos)[T.SG]     0.1487      0.138      1.075      0.283      -0.124       0.421\n",
       "Q(\"HAND L\")                      0.8295      0.665      1.247      0.213      -0.479       2.138\n",
       "Q(\"HAND L\"):C(Pos)[T.PF]        -1.0683      0.914     -1.169      0.243      -2.866       0.729\n",
       "Q(\"HAND L\"):C(Pos)[T.PG]        -1.2196      0.982     -1.242      0.215      -3.152       0.713\n",
       "Q(\"HAND L\"):C(Pos)[T.SF]        -1.7094      0.989     -1.728      0.085      -3.656       0.237\n",
       "Q(\"HAND L\"):C(Pos)[T.SG]        -0.2823      0.904     -0.312      0.755      -2.061       1.497\n",
       "Q(\"HAND W\")                     -0.7591      0.622     -1.221      0.223      -1.982       0.464\n",
       "Q(\"HAND W\"):C(Pos)[T.PF]         1.0382      0.860      1.208      0.228      -0.653       2.729\n",
       "Q(\"HAND W\"):C(Pos)[T.PG]         1.0051      0.904      1.112      0.267      -0.773       2.783\n",
       "Q(\"HAND W\"):C(Pos)[T.SF]         1.5777      0.925      1.705      0.089      -0.243       3.398\n",
       "Q(\"HAND W\"):C(Pos)[T.SG]         0.1468      0.847      0.173      0.863      -1.520       1.813\n",
       "==============================================================================\n",
       "Omnibus:                        1.982   Durbin-Watson:                   2.001\n",
       "Prob(Omnibus):                  0.371   Jarque-Bera (JB):                1.906\n",
       "Skew:                          -0.034   Prob(JB):                        0.386\n",
       "Kurtosis:                       3.340   Cond. No.                     1.01e+16\n",
       "==============================================================================\n",
       "\n",
       "Notes:\n",
       "[1] Standard Errors assume that the covariance matrix of the errors is correctly specified.\n",
       "[2] The smallest eigenvalue is 3.19e-25. This might indicate that there are\n",
       "strong multicollinearity problems or that the design matrix is singular.\n",
       "\"\"\""
      ]
     },
     "execution_count": 40,
     "metadata": {},
     "output_type": "execute_result"
    }
   ],
   "source": [
    "import statsmodels.formula.api as smf\n",
    "inter_action = smf.ols(formula='BPM ~(Q(\"NO SHOES\") + REACH + WEIGHT + WINGSPAN + Q(\"WING DIFF\") + SHUTTLE + Q(\"3/4 SPRINT\") + Q(\"STD VERT\") + Q(\"MAX VERT\") + BENCH +  Q(\"BODY FAT %\")  + Q(\"HAND L\") + Q(\"HAND W\"))*C(Pos)', data=pd.concat([X_train, Y_train], axis=1, sort=False)).fit()\n",
    "inter_action.summary()"
   ]
  },
  {
   "cell_type": "code",
   "execution_count": null,
   "metadata": {},
   "outputs": [],
   "source": [
    "preds_inter=inter_action.predict(X_test_two_var)\n",
    "mean_squared_error(Y_test,preds_inter)\n",
    "mean_absolute_error(Y_test,preds_inter)"
   ]
  },
  {
   "cell_type": "code",
   "execution_count": null,
   "metadata": {},
   "outputs": [],
   "source": [
    "from pyearth import Earth\n",
    "spline_model = Earth()\n",
    "spline_model.fit(X_train,Y_train)\n",
    "y_hat = spline_model.predict(X_test)\n",
    "mean_squared_error(y_hat,Y_test)\n",
    "mean_absolute_error(y_hat,Y_test)"
   ]
  },
  {
   "cell_type": "code",
   "execution_count": null,
   "metadata": {},
   "outputs": [],
   "source": [
    "print(spline_model.summary())"
   ]
  },
  {
   "cell_type": "code",
   "execution_count": null,
   "metadata": {},
   "outputs": [],
   "source": [
    "inter_action = smf.ols(formula='BPM ~ Q(\"MAX VERT\") * Pos', data=pd.concat([X_train, Y_train], axis=1, sort=False)).fit()\n",
    "inter_action.summary()"
   ]
  },
  {
   "cell_type": "code",
   "execution_count": null,
   "metadata": {},
   "outputs": [],
   "source": []
  }
 ],
 "metadata": {
  "kernelspec": {
   "display_name": "Python 3 (ipykernel)",
   "language": "python",
   "name": "python3"
  },
  "language_info": {
   "codemirror_mode": {
    "name": "ipython",
    "version": 3
   },
   "file_extension": ".py",
   "mimetype": "text/x-python",
   "name": "python",
   "nbconvert_exporter": "python",
   "pygments_lexer": "ipython3",
   "version": "3.7.11"
  }
 },
 "nbformat": 4,
 "nbformat_minor": 4
}
