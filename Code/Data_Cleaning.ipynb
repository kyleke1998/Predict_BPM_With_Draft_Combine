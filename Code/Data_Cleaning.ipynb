{
 "cells": [
  {
   "cell_type": "code",
   "execution_count": 3,
   "metadata": {},
   "outputs": [],
   "source": [
    "import pandas as pd\n",
    "from IPython.core.interactiveshell import InteractiveShell\n",
    "InteractiveShell.ast_node_interactivity = \"all\"\n",
    "import re"
   ]
  },
  {
   "cell_type": "code",
   "execution_count": 4,
   "metadata": {},
   "outputs": [
    {
     "ename": "UnicodeDecodeError",
     "evalue": "'utf-8' codec can't decode byte 0xe9 in position 1968: invalid continuation byte",
     "output_type": "error",
     "traceback": [
      "\u001b[1;31m---------------------------------------------------------------------------\u001b[0m",
      "\u001b[1;31mUnicodeDecodeError\u001b[0m                        Traceback (most recent call last)",
      "\u001b[1;32m~\\AppData\\Local\\Temp/ipykernel_17064/2357544931.py\u001b[0m in \u001b[0;36m<module>\u001b[1;34m\u001b[0m\n\u001b[1;32m----> 1\u001b[1;33m \u001b[0mBPM_stats\u001b[0m \u001b[1;33m=\u001b[0m \u001b[0mpd\u001b[0m\u001b[1;33m.\u001b[0m\u001b[0mread_csv\u001b[0m\u001b[1;33m(\u001b[0m\u001b[1;34m'all_players_stats.csv'\u001b[0m\u001b[1;33m)\u001b[0m\u001b[1;33m\u001b[0m\u001b[1;33m\u001b[0m\u001b[0m\n\u001b[0m\u001b[0;32m      2\u001b[0m \u001b[0mcombine_measurements\u001b[0m \u001b[1;33m=\u001b[0m \u001b[0mpd\u001b[0m\u001b[1;33m.\u001b[0m\u001b[0mread_csv\u001b[0m\u001b[1;33m(\u001b[0m\u001b[1;34m'NBA Combine 2000-2019 - NBA Combine Data Set.csv'\u001b[0m\u001b[1;33m)\u001b[0m\u001b[1;33m\u001b[0m\u001b[1;33m\u001b[0m\u001b[0m\n",
      "\u001b[1;32m~\\anaconda3\\lib\\site-packages\\pandas\\util\\_decorators.py\u001b[0m in \u001b[0;36mwrapper\u001b[1;34m(*args, **kwargs)\u001b[0m\n\u001b[0;32m    309\u001b[0m                     \u001b[0mstacklevel\u001b[0m\u001b[1;33m=\u001b[0m\u001b[0mstacklevel\u001b[0m\u001b[1;33m,\u001b[0m\u001b[1;33m\u001b[0m\u001b[1;33m\u001b[0m\u001b[0m\n\u001b[0;32m    310\u001b[0m                 )\n\u001b[1;32m--> 311\u001b[1;33m             \u001b[1;32mreturn\u001b[0m \u001b[0mfunc\u001b[0m\u001b[1;33m(\u001b[0m\u001b[1;33m*\u001b[0m\u001b[0margs\u001b[0m\u001b[1;33m,\u001b[0m \u001b[1;33m**\u001b[0m\u001b[0mkwargs\u001b[0m\u001b[1;33m)\u001b[0m\u001b[1;33m\u001b[0m\u001b[1;33m\u001b[0m\u001b[0m\n\u001b[0m\u001b[0;32m    312\u001b[0m \u001b[1;33m\u001b[0m\u001b[0m\n\u001b[0;32m    313\u001b[0m         \u001b[1;32mreturn\u001b[0m \u001b[0mwrapper\u001b[0m\u001b[1;33m\u001b[0m\u001b[1;33m\u001b[0m\u001b[0m\n",
      "\u001b[1;32m~\\anaconda3\\lib\\site-packages\\pandas\\io\\parsers\\readers.py\u001b[0m in \u001b[0;36mread_csv\u001b[1;34m(filepath_or_buffer, sep, delimiter, header, names, index_col, usecols, squeeze, prefix, mangle_dupe_cols, dtype, engine, converters, true_values, false_values, skipinitialspace, skiprows, skipfooter, nrows, na_values, keep_default_na, na_filter, verbose, skip_blank_lines, parse_dates, infer_datetime_format, keep_date_col, date_parser, dayfirst, cache_dates, iterator, chunksize, compression, thousands, decimal, lineterminator, quotechar, quoting, doublequote, escapechar, comment, encoding, encoding_errors, dialect, error_bad_lines, warn_bad_lines, on_bad_lines, delim_whitespace, low_memory, memory_map, float_precision, storage_options)\u001b[0m\n\u001b[0;32m    584\u001b[0m     \u001b[0mkwds\u001b[0m\u001b[1;33m.\u001b[0m\u001b[0mupdate\u001b[0m\u001b[1;33m(\u001b[0m\u001b[0mkwds_defaults\u001b[0m\u001b[1;33m)\u001b[0m\u001b[1;33m\u001b[0m\u001b[1;33m\u001b[0m\u001b[0m\n\u001b[0;32m    585\u001b[0m \u001b[1;33m\u001b[0m\u001b[0m\n\u001b[1;32m--> 586\u001b[1;33m     \u001b[1;32mreturn\u001b[0m \u001b[0m_read\u001b[0m\u001b[1;33m(\u001b[0m\u001b[0mfilepath_or_buffer\u001b[0m\u001b[1;33m,\u001b[0m \u001b[0mkwds\u001b[0m\u001b[1;33m)\u001b[0m\u001b[1;33m\u001b[0m\u001b[1;33m\u001b[0m\u001b[0m\n\u001b[0m\u001b[0;32m    587\u001b[0m \u001b[1;33m\u001b[0m\u001b[0m\n\u001b[0;32m    588\u001b[0m \u001b[1;33m\u001b[0m\u001b[0m\n",
      "\u001b[1;32m~\\anaconda3\\lib\\site-packages\\pandas\\io\\parsers\\readers.py\u001b[0m in \u001b[0;36m_read\u001b[1;34m(filepath_or_buffer, kwds)\u001b[0m\n\u001b[0;32m    480\u001b[0m \u001b[1;33m\u001b[0m\u001b[0m\n\u001b[0;32m    481\u001b[0m     \u001b[1;31m# Create the parser.\u001b[0m\u001b[1;33m\u001b[0m\u001b[1;33m\u001b[0m\u001b[1;33m\u001b[0m\u001b[0m\n\u001b[1;32m--> 482\u001b[1;33m     \u001b[0mparser\u001b[0m \u001b[1;33m=\u001b[0m \u001b[0mTextFileReader\u001b[0m\u001b[1;33m(\u001b[0m\u001b[0mfilepath_or_buffer\u001b[0m\u001b[1;33m,\u001b[0m \u001b[1;33m**\u001b[0m\u001b[0mkwds\u001b[0m\u001b[1;33m)\u001b[0m\u001b[1;33m\u001b[0m\u001b[1;33m\u001b[0m\u001b[0m\n\u001b[0m\u001b[0;32m    483\u001b[0m \u001b[1;33m\u001b[0m\u001b[0m\n\u001b[0;32m    484\u001b[0m     \u001b[1;32mif\u001b[0m \u001b[0mchunksize\u001b[0m \u001b[1;32mor\u001b[0m \u001b[0miterator\u001b[0m\u001b[1;33m:\u001b[0m\u001b[1;33m\u001b[0m\u001b[1;33m\u001b[0m\u001b[0m\n",
      "\u001b[1;32m~\\anaconda3\\lib\\site-packages\\pandas\\io\\parsers\\readers.py\u001b[0m in \u001b[0;36m__init__\u001b[1;34m(self, f, engine, **kwds)\u001b[0m\n\u001b[0;32m    809\u001b[0m             \u001b[0mself\u001b[0m\u001b[1;33m.\u001b[0m\u001b[0moptions\u001b[0m\u001b[1;33m[\u001b[0m\u001b[1;34m\"has_index_names\"\u001b[0m\u001b[1;33m]\u001b[0m \u001b[1;33m=\u001b[0m \u001b[0mkwds\u001b[0m\u001b[1;33m[\u001b[0m\u001b[1;34m\"has_index_names\"\u001b[0m\u001b[1;33m]\u001b[0m\u001b[1;33m\u001b[0m\u001b[1;33m\u001b[0m\u001b[0m\n\u001b[0;32m    810\u001b[0m \u001b[1;33m\u001b[0m\u001b[0m\n\u001b[1;32m--> 811\u001b[1;33m         \u001b[0mself\u001b[0m\u001b[1;33m.\u001b[0m\u001b[0m_engine\u001b[0m \u001b[1;33m=\u001b[0m \u001b[0mself\u001b[0m\u001b[1;33m.\u001b[0m\u001b[0m_make_engine\u001b[0m\u001b[1;33m(\u001b[0m\u001b[0mself\u001b[0m\u001b[1;33m.\u001b[0m\u001b[0mengine\u001b[0m\u001b[1;33m)\u001b[0m\u001b[1;33m\u001b[0m\u001b[1;33m\u001b[0m\u001b[0m\n\u001b[0m\u001b[0;32m    812\u001b[0m \u001b[1;33m\u001b[0m\u001b[0m\n\u001b[0;32m    813\u001b[0m     \u001b[1;32mdef\u001b[0m \u001b[0mclose\u001b[0m\u001b[1;33m(\u001b[0m\u001b[0mself\u001b[0m\u001b[1;33m)\u001b[0m\u001b[1;33m:\u001b[0m\u001b[1;33m\u001b[0m\u001b[1;33m\u001b[0m\u001b[0m\n",
      "\u001b[1;32m~\\anaconda3\\lib\\site-packages\\pandas\\io\\parsers\\readers.py\u001b[0m in \u001b[0;36m_make_engine\u001b[1;34m(self, engine)\u001b[0m\n\u001b[0;32m   1038\u001b[0m             )\n\u001b[0;32m   1039\u001b[0m         \u001b[1;31m# error: Too many arguments for \"ParserBase\"\u001b[0m\u001b[1;33m\u001b[0m\u001b[1;33m\u001b[0m\u001b[1;33m\u001b[0m\u001b[0m\n\u001b[1;32m-> 1040\u001b[1;33m         \u001b[1;32mreturn\u001b[0m \u001b[0mmapping\u001b[0m\u001b[1;33m[\u001b[0m\u001b[0mengine\u001b[0m\u001b[1;33m]\u001b[0m\u001b[1;33m(\u001b[0m\u001b[0mself\u001b[0m\u001b[1;33m.\u001b[0m\u001b[0mf\u001b[0m\u001b[1;33m,\u001b[0m \u001b[1;33m**\u001b[0m\u001b[0mself\u001b[0m\u001b[1;33m.\u001b[0m\u001b[0moptions\u001b[0m\u001b[1;33m)\u001b[0m  \u001b[1;31m# type: ignore[call-arg]\u001b[0m\u001b[1;33m\u001b[0m\u001b[1;33m\u001b[0m\u001b[0m\n\u001b[0m\u001b[0;32m   1041\u001b[0m \u001b[1;33m\u001b[0m\u001b[0m\n\u001b[0;32m   1042\u001b[0m     \u001b[1;32mdef\u001b[0m \u001b[0m_failover_to_python\u001b[0m\u001b[1;33m(\u001b[0m\u001b[0mself\u001b[0m\u001b[1;33m)\u001b[0m\u001b[1;33m:\u001b[0m\u001b[1;33m\u001b[0m\u001b[1;33m\u001b[0m\u001b[0m\n",
      "\u001b[1;32m~\\anaconda3\\lib\\site-packages\\pandas\\io\\parsers\\c_parser_wrapper.py\u001b[0m in \u001b[0;36m__init__\u001b[1;34m(self, src, **kwds)\u001b[0m\n\u001b[0;32m     67\u001b[0m         \u001b[0mkwds\u001b[0m\u001b[1;33m[\u001b[0m\u001b[1;34m\"dtype\"\u001b[0m\u001b[1;33m]\u001b[0m \u001b[1;33m=\u001b[0m \u001b[0mensure_dtype_objs\u001b[0m\u001b[1;33m(\u001b[0m\u001b[0mkwds\u001b[0m\u001b[1;33m.\u001b[0m\u001b[0mget\u001b[0m\u001b[1;33m(\u001b[0m\u001b[1;34m\"dtype\"\u001b[0m\u001b[1;33m,\u001b[0m \u001b[1;32mNone\u001b[0m\u001b[1;33m)\u001b[0m\u001b[1;33m)\u001b[0m\u001b[1;33m\u001b[0m\u001b[1;33m\u001b[0m\u001b[0m\n\u001b[0;32m     68\u001b[0m         \u001b[1;32mtry\u001b[0m\u001b[1;33m:\u001b[0m\u001b[1;33m\u001b[0m\u001b[1;33m\u001b[0m\u001b[0m\n\u001b[1;32m---> 69\u001b[1;33m             \u001b[0mself\u001b[0m\u001b[1;33m.\u001b[0m\u001b[0m_reader\u001b[0m \u001b[1;33m=\u001b[0m \u001b[0mparsers\u001b[0m\u001b[1;33m.\u001b[0m\u001b[0mTextReader\u001b[0m\u001b[1;33m(\u001b[0m\u001b[0mself\u001b[0m\u001b[1;33m.\u001b[0m\u001b[0mhandles\u001b[0m\u001b[1;33m.\u001b[0m\u001b[0mhandle\u001b[0m\u001b[1;33m,\u001b[0m \u001b[1;33m**\u001b[0m\u001b[0mkwds\u001b[0m\u001b[1;33m)\u001b[0m\u001b[1;33m\u001b[0m\u001b[1;33m\u001b[0m\u001b[0m\n\u001b[0m\u001b[0;32m     70\u001b[0m         \u001b[1;32mexcept\u001b[0m \u001b[0mException\u001b[0m\u001b[1;33m:\u001b[0m\u001b[1;33m\u001b[0m\u001b[1;33m\u001b[0m\u001b[0m\n\u001b[0;32m     71\u001b[0m             \u001b[0mself\u001b[0m\u001b[1;33m.\u001b[0m\u001b[0mhandles\u001b[0m\u001b[1;33m.\u001b[0m\u001b[0mclose\u001b[0m\u001b[1;33m(\u001b[0m\u001b[1;33m)\u001b[0m\u001b[1;33m\u001b[0m\u001b[1;33m\u001b[0m\u001b[0m\n",
      "\u001b[1;32m~\\anaconda3\\lib\\site-packages\\pandas\\_libs\\parsers.pyx\u001b[0m in \u001b[0;36mpandas._libs.parsers.TextReader.__cinit__\u001b[1;34m()\u001b[0m\n",
      "\u001b[1;32m~\\anaconda3\\lib\\site-packages\\pandas\\_libs\\parsers.pyx\u001b[0m in \u001b[0;36mpandas._libs.parsers.TextReader._get_header\u001b[1;34m()\u001b[0m\n",
      "\u001b[1;32m~\\anaconda3\\lib\\site-packages\\pandas\\_libs\\parsers.pyx\u001b[0m in \u001b[0;36mpandas._libs.parsers.TextReader._tokenize_rows\u001b[1;34m()\u001b[0m\n",
      "\u001b[1;32m~\\anaconda3\\lib\\site-packages\\pandas\\_libs\\parsers.pyx\u001b[0m in \u001b[0;36mpandas._libs.parsers.raise_parser_error\u001b[1;34m()\u001b[0m\n",
      "\u001b[1;31mUnicodeDecodeError\u001b[0m: 'utf-8' codec can't decode byte 0xe9 in position 1968: invalid continuation byte"
     ]
    }
   ],
   "source": [
    "BPM_stats = pd.read_csv('all_players_stats.csv')\n",
    "combine_measurements = pd.read_csv('NBA Combine 2000-2019 - NBA Combine Data Set.csv')"
   ]
  },
  {
   "cell_type": "code",
   "execution_count": null,
   "metadata": {},
   "outputs": [],
   "source": [
    "BPM_stats.describe()\n",
    "BPM_stats.info()"
   ]
  },
  {
   "cell_type": "code",
   "execution_count": 4,
   "metadata": {},
   "outputs": [],
   "source": [
    "#Remove the unnamed :0 column\n",
    "BPM_stats = BPM_stats.iloc[:,1:8]"
   ]
  },
  {
   "cell_type": "code",
   "execution_count": 5,
   "metadata": {},
   "outputs": [
    {
     "data": {
      "text/html": [
       "<div>\n",
       "<style scoped>\n",
       "    .dataframe tbody tr th:only-of-type {\n",
       "        vertical-align: middle;\n",
       "    }\n",
       "\n",
       "    .dataframe tbody tr th {\n",
       "        vertical-align: top;\n",
       "    }\n",
       "\n",
       "    .dataframe thead th {\n",
       "        text-align: right;\n",
       "    }\n",
       "</style>\n",
       "<table border=\"1\" class=\"dataframe\">\n",
       "  <thead>\n",
       "    <tr style=\"text-align: right;\">\n",
       "      <th></th>\n",
       "      <th>YEAR</th>\n",
       "      <th>NO SHOES</th>\n",
       "      <th>WITH SHOES</th>\n",
       "      <th>REACH</th>\n",
       "      <th>WEIGHT</th>\n",
       "      <th>WINGSPAN</th>\n",
       "      <th>WING DIFF</th>\n",
       "      <th>SHUTTLE</th>\n",
       "      <th>3/4 SPRINT</th>\n",
       "      <th>STD VERT</th>\n",
       "      <th>MAX VERT</th>\n",
       "      <th>HAND L</th>\n",
       "      <th>HAND W</th>\n",
       "    </tr>\n",
       "  </thead>\n",
       "  <tbody>\n",
       "    <tr>\n",
       "      <th>count</th>\n",
       "      <td>1345.000000</td>\n",
       "      <td>1339.000000</td>\n",
       "      <td>1038.000000</td>\n",
       "      <td>1338.000000</td>\n",
       "      <td>1337.000000</td>\n",
       "      <td>1340.000000</td>\n",
       "      <td>1342.000000</td>\n",
       "      <td>356.000000</td>\n",
       "      <td>1191.000000</td>\n",
       "      <td>1199.000000</td>\n",
       "      <td>1199.000000</td>\n",
       "      <td>608.000000</td>\n",
       "      <td>608.000000</td>\n",
       "    </tr>\n",
       "    <tr>\n",
       "      <th>mean</th>\n",
       "      <td>2009.055019</td>\n",
       "      <td>77.625123</td>\n",
       "      <td>78.828767</td>\n",
       "      <td>103.410463</td>\n",
       "      <td>216.077263</td>\n",
       "      <td>82.431530</td>\n",
       "      <td>4.791885</td>\n",
       "      <td>3.107809</td>\n",
       "      <td>3.288648</td>\n",
       "      <td>29.160801</td>\n",
       "      <td>34.300250</td>\n",
       "      <td>8.741776</td>\n",
       "      <td>9.407484</td>\n",
       "    </tr>\n",
       "    <tr>\n",
       "      <th>std</th>\n",
       "      <td>5.865426</td>\n",
       "      <td>3.437584</td>\n",
       "      <td>3.365468</td>\n",
       "      <td>5.524650</td>\n",
       "      <td>26.584121</td>\n",
       "      <td>4.088891</td>\n",
       "      <td>2.246575</td>\n",
       "      <td>0.178620</td>\n",
       "      <td>0.134840</td>\n",
       "      <td>3.096007</td>\n",
       "      <td>3.700597</td>\n",
       "      <td>0.485089</td>\n",
       "      <td>0.712166</td>\n",
       "    </tr>\n",
       "    <tr>\n",
       "      <th>min</th>\n",
       "      <td>2000.000000</td>\n",
       "      <td>67.750000</td>\n",
       "      <td>69.000000</td>\n",
       "      <td>17.000000</td>\n",
       "      <td>149.200000</td>\n",
       "      <td>70.000000</td>\n",
       "      <td>-2.000000</td>\n",
       "      <td>2.640000</td>\n",
       "      <td>2.910000</td>\n",
       "      <td>19.500000</td>\n",
       "      <td>21.000000</td>\n",
       "      <td>7.500000</td>\n",
       "      <td>7.000000</td>\n",
       "    </tr>\n",
       "    <tr>\n",
       "      <th>25%</th>\n",
       "      <td>2004.000000</td>\n",
       "      <td>75.250000</td>\n",
       "      <td>76.500000</td>\n",
       "      <td>100.000000</td>\n",
       "      <td>197.000000</td>\n",
       "      <td>79.750000</td>\n",
       "      <td>3.250000</td>\n",
       "      <td>2.990000</td>\n",
       "      <td>3.200000</td>\n",
       "      <td>27.000000</td>\n",
       "      <td>31.500000</td>\n",
       "      <td>8.500000</td>\n",
       "      <td>9.000000</td>\n",
       "    </tr>\n",
       "    <tr>\n",
       "      <th>50%</th>\n",
       "      <td>2008.000000</td>\n",
       "      <td>78.000000</td>\n",
       "      <td>79.000000</td>\n",
       "      <td>104.000000</td>\n",
       "      <td>214.400000</td>\n",
       "      <td>82.750000</td>\n",
       "      <td>4.750000</td>\n",
       "      <td>3.100000</td>\n",
       "      <td>3.270000</td>\n",
       "      <td>29.000000</td>\n",
       "      <td>34.000000</td>\n",
       "      <td>8.750000</td>\n",
       "      <td>9.500000</td>\n",
       "    </tr>\n",
       "    <tr>\n",
       "      <th>75%</th>\n",
       "      <td>2014.000000</td>\n",
       "      <td>80.250000</td>\n",
       "      <td>81.250000</td>\n",
       "      <td>107.000000</td>\n",
       "      <td>234.000000</td>\n",
       "      <td>85.500000</td>\n",
       "      <td>6.250000</td>\n",
       "      <td>3.220000</td>\n",
       "      <td>3.370000</td>\n",
       "      <td>31.500000</td>\n",
       "      <td>37.000000</td>\n",
       "      <td>9.000000</td>\n",
       "      <td>10.000000</td>\n",
       "    </tr>\n",
       "    <tr>\n",
       "      <th>max</th>\n",
       "      <td>2019.000000</td>\n",
       "      <td>89.250000</td>\n",
       "      <td>91.000000</td>\n",
       "      <td>122.500000</td>\n",
       "      <td>334.000000</td>\n",
       "      <td>98.250000</td>\n",
       "      <td>13.750000</td>\n",
       "      <td>3.760000</td>\n",
       "      <td>3.810000</td>\n",
       "      <td>39.500000</td>\n",
       "      <td>45.500000</td>\n",
       "      <td>10.500000</td>\n",
       "      <td>12.000000</td>\n",
       "    </tr>\n",
       "  </tbody>\n",
       "</table>\n",
       "</div>"
      ],
      "text/plain": [
       "              YEAR     NO SHOES   WITH SHOES        REACH       WEIGHT  \\\n",
       "count  1345.000000  1339.000000  1038.000000  1338.000000  1337.000000   \n",
       "mean   2009.055019    77.625123    78.828767   103.410463   216.077263   \n",
       "std       5.865426     3.437584     3.365468     5.524650    26.584121   \n",
       "min    2000.000000    67.750000    69.000000    17.000000   149.200000   \n",
       "25%    2004.000000    75.250000    76.500000   100.000000   197.000000   \n",
       "50%    2008.000000    78.000000    79.000000   104.000000   214.400000   \n",
       "75%    2014.000000    80.250000    81.250000   107.000000   234.000000   \n",
       "max    2019.000000    89.250000    91.000000   122.500000   334.000000   \n",
       "\n",
       "          WINGSPAN    WING DIFF     SHUTTLE   3/4 SPRINT     STD VERT  \\\n",
       "count  1340.000000  1342.000000  356.000000  1191.000000  1199.000000   \n",
       "mean     82.431530     4.791885    3.107809     3.288648    29.160801   \n",
       "std       4.088891     2.246575    0.178620     0.134840     3.096007   \n",
       "min      70.000000    -2.000000    2.640000     2.910000    19.500000   \n",
       "25%      79.750000     3.250000    2.990000     3.200000    27.000000   \n",
       "50%      82.750000     4.750000    3.100000     3.270000    29.000000   \n",
       "75%      85.500000     6.250000    3.220000     3.370000    31.500000   \n",
       "max      98.250000    13.750000    3.760000     3.810000    39.500000   \n",
       "\n",
       "          MAX VERT      HAND L      HAND W  \n",
       "count  1199.000000  608.000000  608.000000  \n",
       "mean     34.300250    8.741776    9.407484  \n",
       "std       3.700597    0.485089    0.712166  \n",
       "min      21.000000    7.500000    7.000000  \n",
       "25%      31.500000    8.500000    9.000000  \n",
       "50%      34.000000    8.750000    9.500000  \n",
       "75%      37.000000    9.000000   10.000000  \n",
       "max      45.500000   10.500000   12.000000  "
      ]
     },
     "execution_count": 5,
     "metadata": {},
     "output_type": "execute_result"
    },
    {
     "name": "stdout",
     "output_type": "stream",
     "text": [
      "<class 'pandas.core.frame.DataFrame'>\n",
      "RangeIndex: 1345 entries, 0 to 1344\n",
      "Data columns (total 17 columns):\n",
      " #   Column      Non-Null Count  Dtype  \n",
      "---  ------      --------------  -----  \n",
      " 0   PLAYER      1345 non-null   object \n",
      " 1   YEAR        1345 non-null   int64  \n",
      " 2   POS         1345 non-null   object \n",
      " 3   NO SHOES    1339 non-null   float64\n",
      " 4   WITH SHOES  1038 non-null   float64\n",
      " 5   REACH       1338 non-null   float64\n",
      " 6   WEIGHT      1337 non-null   float64\n",
      " 7   WINGSPAN    1340 non-null   float64\n",
      " 8   WING DIFF   1342 non-null   float64\n",
      " 9   SHUTTLE     356 non-null    float64\n",
      " 10  3/4 SPRINT  1191 non-null   float64\n",
      " 11  STD VERT    1199 non-null   float64\n",
      " 12  MAX VERT    1199 non-null   float64\n",
      " 13  BENCH       1000 non-null   object \n",
      " 14  BODY FAT %  1109 non-null   object \n",
      " 15  HAND L      608 non-null    float64\n",
      " 16  HAND W      608 non-null    float64\n",
      "dtypes: float64(12), int64(1), object(4)\n",
      "memory usage: 178.8+ KB\n"
     ]
    }
   ],
   "source": [
    "combine_measurements.describe()\n",
    "combine_measurements.info()"
   ]
  },
  {
   "cell_type": "markdown",
   "metadata": {},
   "source": [
    "## Cleaning combine_measurements"
   ]
  },
  {
   "cell_type": "code",
   "execution_count": 6,
   "metadata": {},
   "outputs": [],
   "source": [
    "combine_measurements['BODY FAT %'] = combine_measurements['BODY FAT %'].astype(str)\n",
    "combine_measurements['BODY FAT %'] = combine_measurements['BODY FAT %'].apply(lambda x : x.replace('%',''))\n",
    "combine_measurements['BODY FAT %'] =combine_measurements['BODY FAT %'].astype(float)"
   ]
  },
  {
   "cell_type": "code",
   "execution_count": 7,
   "metadata": {},
   "outputs": [],
   "source": [
    "combine_measurements.rename(columns={'PLAYER':'Name'},inplace=True)"
   ]
  },
  {
   "cell_type": "code",
   "execution_count": 8,
   "metadata": {},
   "outputs": [],
   "source": [
    "def clean_name(text):\n",
    "    text = re.sub(r\" III\",\"\",text)\n",
    "    text = re.sub(r\" II\", \"\", text)\n",
    "    text = re.sub(r\"Jr.\",\"\",text)\n",
    "    text = re.sub(r'[0-9]','',text)\n",
    "\n",
    "                  \n",
    "                \n",
    "    return text\n",
    "\n",
    "combine_measurements['Name'] = combine_measurements['Name'].apply(lambda x : clean_name(x))"
   ]
  },
  {
   "cell_type": "code",
   "execution_count": 9,
   "metadata": {},
   "outputs": [],
   "source": [
    "combine_measurements.fillna(-1,inplace=True)"
   ]
  },
  {
   "cell_type": "code",
   "execution_count": 10,
   "metadata": {},
   "outputs": [],
   "source": [
    "combine_measurements['BENCH'] = combine_measurements['BENCH'].apply(lambda x : -1 if x == '-' else x)\n",
    "combine_measurements['BENCH'] = combine_measurements['BENCH'].astype(int)"
   ]
  },
  {
   "cell_type": "code",
   "execution_count": 11,
   "metadata": {},
   "outputs": [
    {
     "name": "stdout",
     "output_type": "stream",
     "text": [
      "<class 'pandas.core.frame.DataFrame'>\n",
      "RangeIndex: 1345 entries, 0 to 1344\n",
      "Data columns (total 17 columns):\n",
      " #   Column      Non-Null Count  Dtype  \n",
      "---  ------      --------------  -----  \n",
      " 0   Name        1345 non-null   object \n",
      " 1   YEAR        1345 non-null   int64  \n",
      " 2   POS         1345 non-null   object \n",
      " 3   NO SHOES    1345 non-null   float64\n",
      " 4   WITH SHOES  1345 non-null   float64\n",
      " 5   REACH       1345 non-null   float64\n",
      " 6   WEIGHT      1345 non-null   float64\n",
      " 7   WINGSPAN    1345 non-null   float64\n",
      " 8   WING DIFF   1345 non-null   float64\n",
      " 9   SHUTTLE     1345 non-null   float64\n",
      " 10  3/4 SPRINT  1345 non-null   float64\n",
      " 11  STD VERT    1345 non-null   float64\n",
      " 12  MAX VERT    1345 non-null   float64\n",
      " 13  BENCH       1345 non-null   int32  \n",
      " 14  BODY FAT %  1345 non-null   float64\n",
      " 15  HAND L      1345 non-null   float64\n",
      " 16  HAND W      1345 non-null   float64\n",
      "dtypes: float64(13), int32(1), int64(1), object(2)\n",
      "memory usage: 173.5+ KB\n"
     ]
    }
   ],
   "source": [
    "combine_measurements.info()"
   ]
  },
  {
   "cell_type": "markdown",
   "metadata": {},
   "source": [
    "## Make Dataframe With Combine Measurements and First Year BPM"
   ]
  },
  {
   "cell_type": "code",
   "execution_count": 12,
   "metadata": {},
   "outputs": [],
   "source": [
    "first_year_BPM_stats=BPM_stats.drop_duplicates('Name')"
   ]
  },
  {
   "cell_type": "code",
   "execution_count": 13,
   "metadata": {},
   "outputs": [],
   "source": [
    "first_year_df = pd.merge(combine_measurements,first_year_BPM_stats,on=['Name'])"
   ]
  },
  {
   "cell_type": "code",
   "execution_count": 14,
   "metadata": {},
   "outputs": [
    {
     "name": "stdout",
     "output_type": "stream",
     "text": [
      "<class 'pandas.core.frame.DataFrame'>\n",
      "Int64Index: 837 entries, 0 to 836\n",
      "Data columns (total 23 columns):\n",
      " #   Column           Non-Null Count  Dtype  \n",
      "---  ------           --------------  -----  \n",
      " 0   Name             837 non-null    object \n",
      " 1   YEAR             837 non-null    int64  \n",
      " 2   POS              837 non-null    object \n",
      " 3   NO SHOES         837 non-null    float64\n",
      " 4   WITH SHOES       837 non-null    float64\n",
      " 5   REACH            837 non-null    float64\n",
      " 6   WEIGHT           837 non-null    float64\n",
      " 7   WINGSPAN         837 non-null    float64\n",
      " 8   WING DIFF        837 non-null    float64\n",
      " 9   SHUTTLE          837 non-null    float64\n",
      " 10  3/4 SPRINT       837 non-null    float64\n",
      " 11  STD VERT         837 non-null    float64\n",
      " 12  MAX VERT         837 non-null    float64\n",
      " 13  BENCH            837 non-null    int32  \n",
      " 14  BODY FAT %       837 non-null    float64\n",
      " 15  HAND L           837 non-null    float64\n",
      " 16  HAND W           837 non-null    float64\n",
      " 17  Season           837 non-null    int64  \n",
      " 18  Pos              837 non-null    object \n",
      " 19  through_4_years  837 non-null    int64  \n",
      " 20  after_2010       837 non-null    int64  \n",
      " 21  BPM              837 non-null    float64\n",
      " 22  MP               837 non-null    int64  \n",
      "dtypes: float64(14), int32(1), int64(5), object(3)\n",
      "memory usage: 153.7+ KB\n"
     ]
    }
   ],
   "source": [
    "first_year_df.info()"
   ]
  },
  {
   "cell_type": "markdown",
   "metadata": {},
   "source": [
    "## Make Dataframe With Combine Measurements and First Year BPM"
   ]
  },
  {
   "cell_type": "code",
   "execution_count": 15,
   "metadata": {},
   "outputs": [
    {
     "data": {
      "text/html": [
       "<div>\n",
       "<style scoped>\n",
       "    .dataframe tbody tr th:only-of-type {\n",
       "        vertical-align: middle;\n",
       "    }\n",
       "\n",
       "    .dataframe tbody tr th {\n",
       "        vertical-align: top;\n",
       "    }\n",
       "\n",
       "    .dataframe thead th {\n",
       "        text-align: right;\n",
       "    }\n",
       "</style>\n",
       "<table border=\"1\" class=\"dataframe\">\n",
       "  <thead>\n",
       "    <tr style=\"text-align: right;\">\n",
       "      <th></th>\n",
       "      <th>Name</th>\n",
       "      <th>BPM</th>\n",
       "    </tr>\n",
       "  </thead>\n",
       "  <tbody>\n",
       "    <tr>\n",
       "      <th>0</th>\n",
       "      <td>A.J. Guyton</td>\n",
       "      <td>-7.333333</td>\n",
       "    </tr>\n",
       "    <tr>\n",
       "      <th>1</th>\n",
       "      <td>A.J. Hammons</td>\n",
       "      <td>-6.600000</td>\n",
       "    </tr>\n",
       "    <tr>\n",
       "      <th>2</th>\n",
       "      <td>A.J. Price</td>\n",
       "      <td>-1.250000</td>\n",
       "    </tr>\n",
       "    <tr>\n",
       "      <th>3</th>\n",
       "      <td>Aaron Brooks</td>\n",
       "      <td>-0.783333</td>\n",
       "    </tr>\n",
       "    <tr>\n",
       "      <th>4</th>\n",
       "      <td>Aaron Gordon</td>\n",
       "      <td>-0.600000</td>\n",
       "    </tr>\n",
       "    <tr>\n",
       "      <th>...</th>\n",
       "      <td>...</td>\n",
       "      <td>...</td>\n",
       "    </tr>\n",
       "    <tr>\n",
       "      <th>1567</th>\n",
       "      <td>�eljko Rebraca</td>\n",
       "      <td>-2.533333</td>\n",
       "    </tr>\n",
       "    <tr>\n",
       "      <th>1568</th>\n",
       "      <td>�lex Abrines</td>\n",
       "      <td>-2.133333</td>\n",
       "    </tr>\n",
       "    <tr>\n",
       "      <th>1569</th>\n",
       "      <td>�mer Asik</td>\n",
       "      <td>-1.400000</td>\n",
       "    </tr>\n",
       "    <tr>\n",
       "      <th>1570</th>\n",
       "      <td>�ngel Delgado</td>\n",
       "      <td>-12.000000</td>\n",
       "    </tr>\n",
       "    <tr>\n",
       "      <th>1571</th>\n",
       "      <td>�scar Torres</td>\n",
       "      <td>-0.800000</td>\n",
       "    </tr>\n",
       "  </tbody>\n",
       "</table>\n",
       "<p>1572 rows × 2 columns</p>\n",
       "</div>"
      ],
      "text/plain": [
       "                Name        BPM\n",
       "0        A.J. Guyton  -7.333333\n",
       "1       A.J. Hammons  -6.600000\n",
       "2         A.J. Price  -1.250000\n",
       "3       Aaron Brooks  -0.783333\n",
       "4       Aaron Gordon  -0.600000\n",
       "...              ...        ...\n",
       "1567  �eljko Rebraca  -2.533333\n",
       "1568    �lex Abrines  -2.133333\n",
       "1569       �mer Asik  -1.400000\n",
       "1570   �ngel Delgado -12.000000\n",
       "1571    �scar Torres  -0.800000\n",
       "\n",
       "[1572 rows x 2 columns]"
      ]
     },
     "execution_count": 15,
     "metadata": {},
     "output_type": "execute_result"
    }
   ],
   "source": [
    "avg_BPM_stats = BPM_stats.groupby(['Name'],as_index=False)['BPM'].mean()\n",
    "avg_BPM_stats\n",
    "avg_BPM_stats.rename(columns={'BPM':'Avg_BPM'},inplace=True)"
   ]
  },
  {
   "cell_type": "code",
   "execution_count": 16,
   "metadata": {},
   "outputs": [],
   "source": [
    "all_df = pd.merge(first_year_df,avg_BPM_stats,on=['Name'])"
   ]
  },
  {
   "cell_type": "code",
   "execution_count": 17,
   "metadata": {},
   "outputs": [],
   "source": [
    "import pickle5 as pickle\n",
    "file_name='cleaned_df.pkl'\n",
    "f = open(file_name,'wb')\n",
    "pickle.dump(all_df,f)\n",
    "f.close()"
   ]
  }
 ],
 "metadata": {
  "kernelspec": {
   "display_name": "Python 3 (ipykernel)",
   "language": "python",
   "name": "python3"
  },
  "language_info": {
   "codemirror_mode": {
    "name": "ipython",
    "version": 3
   },
   "file_extension": ".py",
   "mimetype": "text/x-python",
   "name": "python",
   "nbconvert_exporter": "python",
   "pygments_lexer": "ipython3",
   "version": "3.7.11"
  }
 },
 "nbformat": 4,
 "nbformat_minor": 4
}
